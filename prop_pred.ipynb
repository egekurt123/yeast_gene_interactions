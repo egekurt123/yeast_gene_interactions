{
 "cells": [
  {
   "cell_type": "code",
   "execution_count": 2,
   "metadata": {},
   "outputs": [
    {
     "name": "stdout",
     "output_type": "stream",
     "text": [
      "R² scores: [-0.8479733487794889, -0.5843830413514235, -1.3516852720204193, -0.5347690483351277, -0.7702936693500977, -0.5751593217681035, -0.9678069380200158, -1.9484382777619147, -1.3163466511092397, -0.7415800713805007, -1.4540609473842, -3.7556222755178768, -1.316980018511197, -0.8231267001390432, -2.0256479876195916, -1.0631204431525427, -1.2184442471318704, -0.8741815423696295, -0.8558397368904149, -1.0591729225283797, -1.2375175716484428, -2.8036856838154094, -2.2497577282733086, -3.522648831133914, -2.337417698096883, -1.1231746981321473, -0.7718632689941574, -0.7661205306027903, -0.5543285999091201, -3.2197355416321853, -3.13993335028006, 0.17800744782295075, -1.8663527109998865, 0.04629311649956769, -0.6836056843931768, -3.159406030271507, -1.7486792752331666, -3.61663521169604, -1.4811140727228214, -0.9572646383073453, -1.2924053506236035, -2.5982787987520117, -1.6166605770046845, -0.4699204974708886, -3.795497542051681, -0.5333409933231414, -0.6667548561896885, -2.333418085640457, -2.368013636384908, -6.428377692378363, -0.8510667443156592, -1.1063718139544974, -3.9268233956523977, -0.9333419875355973, -0.8774432010317046, -1.2638399307451191, -0.5112196441541634, -2.9934583719476655, -2.584823403601379, -1.1199686510107956, -4.295502658717345, -2.215098727217484, -1.9378845052668217, -1.052349658917279, -2.143316822858236, -2.67279207352349, -1.171308829319294, -2.4040066138919944, -1.5066548294798938, -0.7778175006428698, -0.9848078324677507, -2.168269184553502, -2.1798133536946223, -0.8537787395034464, -1.072649358916606, -1.6348891691468257, -1.1559241056475598]\n",
      "Average R²: -1.6571098981879786\n",
      "Average RMSE: 0.13024722621093035\n"
     ]
    }
   ],
   "source": [
    "import numpy as np\n",
    "import pandas as pd\n",
    "from sklearn.decomposition import PCA\n",
    "from sklearn.model_selection import train_test_split\n",
    "from sklearn.linear_model import LinearRegression\n",
    "from sklearn.metrics import r2_score, mean_squared_error\n",
    "import random\n",
    "\n",
    "# Load the data\n",
    "all_genes = pd.read_csv('extracted_data/GxG_filled.csv', sep=',', index_col=0)\n",
    "ExE = pd.read_csv('extracted_data/ExE_imputed.csv', sep=',', index_col=0)\n",
    "\n",
    "def evaluate_model(target_column, X, y):\n",
    "    X_train, X_test, y_train, y_test = train_test_split(X, y, test_size=0.2, random_state=42)\n",
    "    lm = LinearRegression().fit(X_train, y_train)\n",
    "    y_pred = lm.predict(X_test)\n",
    "    r2 = lm.score(X_test, y_test)\n",
    "    rmse = np.sqrt(mean_squared_error(y_test, y_pred))\n",
    "    return r2, rmse\n",
    "\n",
    "def iterate_over_proportion(ExE, proportion):\n",
    "    num_columns = int(ExE.shape[1] * proportion)\n",
    "    selected_columns = random.sample(ExE.columns.tolist(), num_columns)\n",
    "    \n",
    "    r2_scores = []\n",
    "    rmse_scores = []\n",
    "    \n",
    "    for target_column in selected_columns:\n",
    "        X = ExE.drop(columns=[target_column])\n",
    "        y = ExE[target_column]\n",
    "        \n",
    "        r2, rmse = evaluate_model(target_column, X, y)\n",
    "        r2_scores.append(r2)\n",
    "        rmse_scores.append(rmse)\n",
    "    \n",
    "    print(f\"R² scores: {r2_scores}\")\n",
    "\n",
    "    avg_r2 = np.mean(r2_scores)\n",
    "    avg_rmse = np.mean(rmse_scores)\n",
    "    \n",
    "    return avg_r2, avg_rmse\n",
    "\n",
    "proportion = 0.1\n",
    "avg_r2, avg_rmse = iterate_over_proportion(ExE, proportion)\n",
    "\n",
    "print(f\"Average R²: {avg_r2}\")\n",
    "print(f\"Average RMSE: {avg_rmse}\")"
   ]
  }
 ],
 "metadata": {
  "kernelspec": {
   "display_name": "Python 3",
   "language": "python",
   "name": "python3"
  },
  "language_info": {
   "codemirror_mode": {
    "name": "ipython",
    "version": 3
   },
   "file_extension": ".py",
   "mimetype": "text/x-python",
   "name": "python",
   "nbconvert_exporter": "python",
   "pygments_lexer": "ipython3",
   "version": "3.12.3"
  }
 },
 "nbformat": 4,
 "nbformat_minor": 2
}
