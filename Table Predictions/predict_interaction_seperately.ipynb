{
 "cells": [
  {
   "cell_type": "code",
   "execution_count": 2,
   "id": "8839e170",
   "metadata": {},
   "outputs": [],
   "source": [
    "from sklearn.ensemble import RandomForestRegressor\n",
    "from sklearn.model_selection import train_test_split\n",
    "from sklearn.preprocessing import LabelEncoder\n",
    "from sklearn.metrics import r2_score, mean_squared_error\n",
    "import numpy as np\n",
    "import pandas as pd"
   ]
  },
  {
   "cell_type": "markdown",
   "id": "dee9ef63",
   "metadata": {},
   "source": [
    "### Predicts ExE, ExN, NxN interactions seperately with RandomForests for comparison with Matrix predictions "
   ]
  },
  {
   "cell_type": "code",
   "execution_count": 3,
   "id": "43f775f5",
   "metadata": {},
   "outputs": [],
   "source": [
    "ee = pd.read_csv('../extracted_data/interaction_table_ee.csv')\n",
    "en = pd.read_csv('../extracted_data/interaction_table_en.csv')\n",
    "nn = pd.read_csv('../extracted_data/interaction_table_nn.csv')"
   ]
  },
  {
   "cell_type": "code",
   "execution_count": 4,
   "id": "3bb24c13",
   "metadata": {},
   "outputs": [],
   "source": [
    "def train_and_report(data):\n",
    "    \n",
    "    df = data[['query_gene', 'array_gene', 'dmf']].copy()\n",
    "\n",
    "    le_query = LabelEncoder()\n",
    "    le_array = LabelEncoder()\n",
    "    df['query_gene_enc'] = le_query.fit_transform(df['query_gene'])\n",
    "    df['array_gene_enc'] = le_array.fit_transform(df['array_gene'])\n",
    "\n",
    "    X = df[['query_gene_enc', 'array_gene_enc']].values\n",
    "    y = df['dmf'].values\n",
    "\n",
    "    X_train, X_test, y_train, y_test = train_test_split(X, y, test_size=0.2, random_state=42)\n",
    "\n",
    "    model = RandomForestRegressor()\n",
    "    model.fit(X_train, y_train)\n",
    "\n",
    "    y_pred = model.predict(X_test)\n",
    "\n",
    "    r2 = r2_score(y_test, y_pred)\n",
    "    rmse = np.sqrt(mean_squared_error(y_test, y_pred))\n",
    "\n",
    "    print(f\"R² score: {r2:.3f}\")\n",
    "    print(f\"RMSE: {rmse:.3f}\")"
   ]
  },
  {
   "cell_type": "markdown",
   "id": "d481ca00",
   "metadata": {},
   "source": [
    "## Essential x Essential Gene Interactions"
   ]
  },
  {
   "cell_type": "code",
   "execution_count": 16,
   "id": "fc456217",
   "metadata": {},
   "outputs": [
    {
     "name": "stdout",
     "output_type": "stream",
     "text": [
      "R² score: 0.377\n",
      "RMSE: 0.147\n"
     ]
    }
   ],
   "source": [
    "train_and_report(ee)"
   ]
  },
  {
   "cell_type": "markdown",
   "id": "17c97adb",
   "metadata": {},
   "source": [
    "# Essential x Nonessential Gene Interactions"
   ]
  },
  {
   "cell_type": "code",
   "execution_count": 17,
   "id": "7b05090d",
   "metadata": {},
   "outputs": [
    {
     "name": "stdout",
     "output_type": "stream",
     "text": [
      "R² score: 0.473\n",
      "RMSE: 0.133\n"
     ]
    }
   ],
   "source": [
    "train_and_report(en)"
   ]
  },
  {
   "cell_type": "markdown",
   "id": "fe933c1a",
   "metadata": {},
   "source": [
    "## Nonessential x Nonessential Gene Interactions"
   ]
  },
  {
   "cell_type": "code",
   "execution_count": 5,
   "id": "1169556c",
   "metadata": {},
   "outputs": [
    {
     "ename": "",
     "evalue": "",
     "output_type": "error",
     "traceback": [
      "\u001b[1;31mThe Kernel crashed while executing code in the current cell or a previous cell. \n",
      "\u001b[1;31mPlease review the code in the cell(s) to identify a possible cause of the failure. \n",
      "\u001b[1;31mClick <a href='https://aka.ms/vscodeJupyterKernelCrash'>here</a> for more info. \n",
      "\u001b[1;31mView Jupyter <a href='command:jupyter.viewOutput'>log</a> for further details."
     ]
    }
   ],
   "source": [
    "train_and_report(nn)"
   ]
  }
 ],
 "metadata": {
  "kernelspec": {
   "display_name": "Python 3",
   "language": "python",
   "name": "python3"
  },
  "language_info": {
   "codemirror_mode": {
    "name": "ipython",
    "version": 3
   },
   "file_extension": ".py",
   "mimetype": "text/x-python",
   "name": "python",
   "nbconvert_exporter": "python",
   "pygments_lexer": "ipython3",
   "version": "3.12.3"
  }
 },
 "nbformat": 4,
 "nbformat_minor": 5
}
