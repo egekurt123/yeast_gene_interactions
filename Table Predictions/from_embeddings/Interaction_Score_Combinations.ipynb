{
 "cells": [
  {
   "cell_type": "code",
   "execution_count": 1,
   "id": "f3e2e5da",
   "metadata": {},
   "outputs": [],
   "source": [
    "from embedding_prediction_helpers import *"
   ]
  },
  {
   "cell_type": "code",
   "execution_count": 2,
   "id": "38487dae",
   "metadata": {},
   "outputs": [],
   "source": [
    "DNALM = pd.read_csv('../../extracted_data/yeast_emb_only_embeddings.csv', sep=',', index_col=0).set_index(\"gene_id\")\n",
    "DNALM_Genex = pd.read_csv('../../extracted_data/yeast_emb_embeddings_genex.csv', sep=',', index_col=0).set_index(\"gene_id\")\n",
    "DNALM_YeastNet = pd.read_csv('../../extracted_data/yeast_emb_embeddings_yeastnet.csv', sep=',', index_col=0).set_index(\"gene_id\")\n",
    "DNALM_YeastNet_Genex = pd.read_csv('../../extracted_data/yeast_emb_embeddings_yeastnet_genex.csv', sep=',', index_col=0).set_index(\"gene_id\")"
   ]
  },
  {
   "cell_type": "markdown",
   "id": "62986f60",
   "metadata": {},
   "source": [
    "## DNALM only"
   ]
  },
  {
   "cell_type": "code",
   "execution_count": 3,
   "id": "21da8231",
   "metadata": {},
   "outputs": [
    {
     "name": "stdout",
     "output_type": "stream",
     "text": [
      "Running for combination: DNALM only\n",
      "\n",
      "\n",
      "Linear Regression\n",
      "R2: -4.615\n",
      "RMSE: 0.311\n",
      "\n",
      "\n",
      "Linear Regression with PCA\n",
      "R2: 0.002\n",
      "RMSE: 0.131\n",
      "\n",
      "\n",
      "Ridge Regression\n",
      "R2: -0.031\n",
      "RMSE: 0.133\n",
      "\n",
      "\n",
      "XGBoost Regression\n",
      "R2: -0.021\n",
      "RMSE: 0.133\n",
      "\n",
      "\n",
      "Random Forest Regression\n",
      "R2: -0.001\n",
      "RMSE: 0.131\n",
      "\n",
      "\n"
     ]
    }
   ],
   "source": [
    "predict_all_models(DNALM, \"DNALM only\")"
   ]
  },
  {
   "cell_type": "markdown",
   "id": "f5d11aff",
   "metadata": {},
   "source": [
    "## DNALM + YeastNet"
   ]
  },
  {
   "cell_type": "code",
   "execution_count": 4,
   "id": "7ddd6877",
   "metadata": {},
   "outputs": [
    {
     "name": "stdout",
     "output_type": "stream",
     "text": [
      "Running for combination: DNALM + YeastNet\n",
      "\n",
      "\n",
      "Linear Regression\n",
      "R2: -7.147\n",
      "RMSE: 0.375\n",
      "\n",
      "\n",
      "Linear Regression with PCA\n",
      "R2: 0.007\n",
      "RMSE: 0.131\n",
      "\n",
      "\n",
      "Ridge Regression\n",
      "R2: -0.037\n",
      "RMSE: 0.134\n",
      "\n",
      "\n",
      "XGBoost Regression\n",
      "R2: -0.025\n",
      "RMSE: 0.133\n",
      "\n",
      "\n",
      "Random Forest Regression\n",
      "R2: -0.002\n",
      "RMSE: 0.131\n",
      "\n",
      "\n"
     ]
    }
   ],
   "source": [
    "predict_all_models(DNALM_YeastNet, \"DNALM + YeastNet\")"
   ]
  },
  {
   "cell_type": "markdown",
   "id": "56e5675e",
   "metadata": {},
   "source": [
    "## DNALM + Gene expressions"
   ]
  },
  {
   "cell_type": "code",
   "execution_count": 5,
   "id": "945c9e8d",
   "metadata": {},
   "outputs": [
    {
     "name": "stdout",
     "output_type": "stream",
     "text": [
      "Running for combination: DNALM + Gene Expressions\n",
      "\n",
      "\n",
      "Linear Regression\n",
      "R2: -4.816\n",
      "RMSE: 0.317\n",
      "\n",
      "\n",
      "Linear Regression with PCA\n",
      "R2: 0.003\n",
      "RMSE: 0.131\n",
      "\n",
      "\n",
      "Ridge Regression\n",
      "R2: -0.030\n",
      "RMSE: 0.133\n",
      "\n",
      "\n",
      "XGBoost Regression\n",
      "R2: -0.025\n",
      "RMSE: 0.133\n",
      "\n",
      "\n",
      "Random Forest Regression\n",
      "R2: 0.002\n",
      "RMSE: 0.131\n",
      "\n",
      "\n"
     ]
    }
   ],
   "source": [
    "predict_all_models(DNALM_Genex, \"DNALM + Gene Expressions\")"
   ]
  },
  {
   "cell_type": "markdown",
   "id": "cda25225",
   "metadata": {},
   "source": [
    "## DNALM + Yeastnet + Gene expressions"
   ]
  },
  {
   "cell_type": "code",
   "execution_count": 6,
   "id": "0f98eaff",
   "metadata": {},
   "outputs": [
    {
     "name": "stdout",
     "output_type": "stream",
     "text": [
      "Running for combination: DNALM + YeastNet + Gene Expressions\n",
      "\n",
      "\n"
     ]
    },
    {
     "name": "stdout",
     "output_type": "stream",
     "text": [
      "Linear Regression\n",
      "R2: -7.199\n",
      "RMSE: 0.376\n",
      "\n",
      "\n",
      "Linear Regression with PCA\n",
      "R2: 0.008\n",
      "RMSE: 0.131\n",
      "\n",
      "\n",
      "Ridge Regression\n",
      "R2: -0.035\n",
      "RMSE: 0.134\n",
      "\n",
      "\n",
      "XGBoost Regression\n",
      "R2: -0.015\n",
      "RMSE: 0.132\n",
      "\n",
      "\n",
      "Random Forest Regression\n",
      "R2: 0.003\n",
      "RMSE: 0.131\n",
      "\n",
      "\n"
     ]
    }
   ],
   "source": [
    "predict_all_models(DNALM_YeastNet_Genex, \"DNALM + YeastNet + Gene Expressions\")"
   ]
  }
 ],
 "metadata": {
  "kernelspec": {
   "display_name": "Python 3",
   "language": "python",
   "name": "python3"
  },
  "language_info": {
   "codemirror_mode": {
    "name": "ipython",
    "version": 3
   },
   "file_extension": ".py",
   "mimetype": "text/x-python",
   "name": "python",
   "nbconvert_exporter": "python",
   "pygments_lexer": "ipython3",
   "version": "3.13.2"
  }
 },
 "nbformat": 4,
 "nbformat_minor": 5
}
