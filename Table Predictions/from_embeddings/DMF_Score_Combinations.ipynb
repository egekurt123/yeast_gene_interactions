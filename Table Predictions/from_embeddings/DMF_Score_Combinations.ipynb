{
 "cells": [
  {
   "cell_type": "code",
   "execution_count": 1,
   "id": "f3e2e5da",
   "metadata": {},
   "outputs": [],
   "source": [
    "from embedding_prediction_helpers import *"
   ]
  },
  {
   "cell_type": "code",
   "execution_count": 8,
   "id": "38487dae",
   "metadata": {},
   "outputs": [],
   "source": [
    "DNALM = pd.read_csv('../../extracted_data/yeast_emb_only_embeddings.csv', sep=',', index_col=0).set_index(\"gene_id\")\n",
    "DNALM_Genex = pd.read_csv('../../extracted_data/yeast_emb_embeddings_genex.csv', sep=',', index_col=0).set_index(\"gene_id\")\n",
    "DNALM_YeastNet = pd.read_csv('../../extracted_data/yeast_emb_embeddings_yeastnet.csv', sep=',', index_col=0).set_index(\"gene_id\")\n",
    "DNALM_YeastNet_Genex = pd.read_csv('../../extracted_data/yeast_emb_embeddings_yeastnet_genex.csv', sep=',', index_col=0).set_index(\"gene_id\")"
   ]
  },
  {
   "cell_type": "markdown",
   "id": "62986f60",
   "metadata": {},
   "source": [
    "## DNALM only"
   ]
  },
  {
   "cell_type": "code",
   "execution_count": 3,
   "id": "21da8231",
   "metadata": {},
   "outputs": [
    {
     "name": "stdout",
     "output_type": "stream",
     "text": [
      "Running for combination: DNALM only\n",
      "\n",
      "\n",
      "Linear Regression\n",
      "R2:  -1.8728521061960945\n",
      "RMSE: 0.4351851755096934\n",
      "\n",
      "\n",
      "Linear Regression with PCA\n",
      "R2:  0.15668839496052356\n",
      "RMSE: 0.23578246112776152\n",
      "\n",
      "\n",
      "XGBoost Regression\n",
      "R2: 0.360\n",
      "RMSE: 0.204\n",
      "\n",
      "\n",
      "Random Forest Regression\n",
      "Random Forest R² score: 0.248\n",
      "Random Forest RMSE: 0.223\n",
      "\n",
      "\n"
     ]
    }
   ],
   "source": [
    "predict_all_models(DNALM, \"DNALM only\", prediction_type=\"dmf\")"
   ]
  },
  {
   "cell_type": "markdown",
   "id": "f5d11aff",
   "metadata": {},
   "source": [
    "## DNALM + YeastNet"
   ]
  },
  {
   "cell_type": "code",
   "execution_count": 9,
   "id": "7ddd6877",
   "metadata": {},
   "outputs": [
    {
     "name": "stdout",
     "output_type": "stream",
     "text": [
      "Running for combination: DNALM + YeastNet\n",
      "\n",
      "\n",
      "Linear Regression\n",
      "R2:  -2.660905146466018\n",
      "RMSE: 0.49126033094368937\n",
      "\n",
      "\n",
      "Linear Regression with PCA\n",
      "R2:  0.18159663910008506\n",
      "RMSE: 0.23227430020229828\n",
      "\n",
      "\n",
      "XGBoost Regression\n",
      "R2: 0.356\n",
      "RMSE: 0.205\n",
      "\n",
      "\n",
      "Random Forest Regression\n",
      "Random Forest R² score: 0.252\n",
      "Random Forest RMSE: 0.222\n",
      "\n",
      "\n"
     ]
    }
   ],
   "source": [
    "predict_all_models(DNALM_YeastNet, \"DNALM + YeastNet\", prediction_type=\"dmf\")"
   ]
  },
  {
   "cell_type": "markdown",
   "id": "56e5675e",
   "metadata": {},
   "source": [
    "## DNALM + Gene expressions"
   ]
  },
  {
   "cell_type": "code",
   "execution_count": 5,
   "id": "945c9e8d",
   "metadata": {},
   "outputs": [
    {
     "name": "stdout",
     "output_type": "stream",
     "text": [
      "Running for combination: DNALM + Gene Expressions\n",
      "\n",
      "\n",
      "Linear Regression\n",
      "R2:  -1.807958821677357\n",
      "RMSE: 0.4302420215951844\n",
      "\n",
      "\n",
      "Linear Regression with PCA\n",
      "R2:  0.2612572761561939\n",
      "RMSE: 0.22068055442955714\n",
      "\n",
      "\n",
      "XGBoost Regression\n",
      "R2: 0.472\n",
      "RMSE: 0.186\n",
      "\n",
      "\n",
      "Random Forest Regression\n",
      "Random Forest R² score: 0.371\n",
      "Random Forest RMSE: 0.204\n",
      "\n",
      "\n"
     ]
    }
   ],
   "source": [
    "predict_all_models(DNALM_Genex, \"DNALM + Gene Expressions\", prediction_type=\"dmf\")"
   ]
  },
  {
   "cell_type": "markdown",
   "id": "cda25225",
   "metadata": {},
   "source": [
    "## DNALM + Yeastnet + Gene expressions"
   ]
  },
  {
   "cell_type": "code",
   "execution_count": 6,
   "id": "0f98eaff",
   "metadata": {},
   "outputs": [
    {
     "name": "stdout",
     "output_type": "stream",
     "text": [
      "Running for combination: DNALM + YeastNet + Gene Expressions\n",
      "\n",
      "\n",
      "Linear Regression\n",
      "R2:  -2.563327279648367\n",
      "RMSE: 0.48466908025574723\n",
      "\n",
      "\n",
      "Linear Regression with PCA\n",
      "R2:  0.27325007039502647\n",
      "RMSE: 0.21888195415367723\n",
      "\n",
      "\n",
      "XGBoost Regression\n",
      "R2: 0.472\n",
      "RMSE: 0.186\n",
      "\n",
      "\n",
      "Random Forest Regression\n",
      "Random Forest R² score: 0.377\n",
      "Random Forest RMSE: 0.203\n",
      "\n",
      "\n"
     ]
    }
   ],
   "source": [
    "predict_all_models(DNALM_YeastNet_Genex, \"DNALM + YeastNet + Gene Expressions\", prediction_type=\"dmf\")"
   ]
  }
 ],
 "metadata": {
  "kernelspec": {
   "display_name": "Python 3",
   "language": "python",
   "name": "python3"
  },
  "language_info": {
   "codemirror_mode": {
    "name": "ipython",
    "version": 3
   },
   "file_extension": ".py",
   "mimetype": "text/x-python",
   "name": "python",
   "nbconvert_exporter": "python",
   "pygments_lexer": "ipython3",
   "version": "3.13.2"
  }
 },
 "nbformat": 4,
 "nbformat_minor": 5
}
