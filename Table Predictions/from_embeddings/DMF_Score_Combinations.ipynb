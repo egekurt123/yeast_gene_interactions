{
 "cells": [
  {
   "cell_type": "code",
   "execution_count": 1,
   "id": "f3e2e5da",
   "metadata": {},
   "outputs": [],
   "source": [
    "from embedding_prediction_helpers import *"
   ]
  },
  {
   "cell_type": "code",
   "execution_count": 2,
   "id": "38487dae",
   "metadata": {},
   "outputs": [],
   "source": [
    "DNALM = pd.read_csv('../../extracted_data/yeast_emb_only_embeddings.csv', sep=',', index_col=0).set_index(\"gene_id\")\n",
    "DNALM_Genex = pd.read_csv('../../extracted_data/yeast_emb_embeddings_genex.csv', sep=',', index_col=0).set_index(\"gene_id\")\n",
    "DNALM_YeastNet = pd.read_csv('../../extracted_data/yeast_emb_embeddings_yeastnet.csv', sep=',', index_col=0).set_index(\"gene_id\")\n",
    "DNALM_YeastNet_Genex = pd.read_csv('../../extracted_data/yeast_emb_embeddings_yeastnet_genex.csv', sep=',', index_col=0).set_index(\"gene_id\")"
   ]
  },
  {
   "cell_type": "markdown",
   "id": "62986f60",
   "metadata": {},
   "source": [
    "## DNALM only"
   ]
  },
  {
   "cell_type": "code",
   "execution_count": 3,
   "id": "21da8231",
   "metadata": {},
   "outputs": [
    {
     "name": "stdout",
     "output_type": "stream",
     "text": [
      "Running for combination: DNALM only\n",
      "\n",
      "\n",
      "Linear Regression\n",
      "R2: -1.873\n",
      "RMSE: 0.435\n",
      "\n",
      "\n",
      "Linear Regression with PCA\n",
      "R2: 0.157\n",
      "RMSE: 0.236\n",
      "\n",
      "\n",
      "Ridge Regression\n",
      "R2: 0.242\n",
      "RMSE: 0.224\n",
      "\n",
      "\n",
      "XGBoost Regression\n",
      "R2: 0.368\n",
      "RMSE: 0.204\n",
      "\n",
      "\n",
      "Random Forest Regression\n",
      "R2: 0.248\n",
      "RMSE: 0.223\n",
      "\n",
      "\n"
     ]
    }
   ],
   "source": [
    "predict_all_models(DNALM, \"DNALM only\", prediction_type=\"dmf\")"
   ]
  },
  {
   "cell_type": "markdown",
   "id": "f5d11aff",
   "metadata": {},
   "source": [
    "## DNALM + YeastNet"
   ]
  },
  {
   "cell_type": "code",
   "execution_count": 4,
   "id": "7ddd6877",
   "metadata": {},
   "outputs": [
    {
     "name": "stdout",
     "output_type": "stream",
     "text": [
      "Running for combination: DNALM + YeastNet\n",
      "\n",
      "\n"
     ]
    },
    {
     "name": "stdout",
     "output_type": "stream",
     "text": [
      "Linear Regression\n",
      "R2: -2.661\n",
      "RMSE: 0.491\n",
      "\n",
      "\n",
      "Linear Regression with PCA\n",
      "R2: 0.182\n",
      "RMSE: 0.232\n",
      "\n",
      "\n",
      "Ridge Regression\n",
      "R2: 0.270\n",
      "RMSE: 0.219\n",
      "\n",
      "\n",
      "XGBoost Regression\n",
      "R2: 0.382\n",
      "RMSE: 0.202\n",
      "\n",
      "\n",
      "Random Forest Regression\n",
      "R2: 0.252\n",
      "RMSE: 0.222\n",
      "\n",
      "\n"
     ]
    }
   ],
   "source": [
    "predict_all_models(DNALM_YeastNet, \"DNALM + YeastNet\", prediction_type=\"dmf\")"
   ]
  },
  {
   "cell_type": "markdown",
   "id": "56e5675e",
   "metadata": {},
   "source": [
    "## DNALM + Gene expressions"
   ]
  },
  {
   "cell_type": "code",
   "execution_count": 5,
   "id": "945c9e8d",
   "metadata": {},
   "outputs": [
    {
     "name": "stdout",
     "output_type": "stream",
     "text": [
      "Running for combination: DNALM + Gene Expressions\n",
      "\n",
      "\n"
     ]
    },
    {
     "name": "stdout",
     "output_type": "stream",
     "text": [
      "Linear Regression\n",
      "R2: -1.808\n",
      "RMSE: 0.430\n",
      "\n",
      "\n",
      "Linear Regression with PCA\n",
      "R2: 0.259\n",
      "RMSE: 0.221\n",
      "\n",
      "\n",
      "Ridge Regression\n",
      "R2: 0.326\n",
      "RMSE: 0.211\n",
      "\n",
      "\n",
      "XGBoost Regression\n",
      "R2: 0.483\n",
      "RMSE: 0.185\n",
      "\n",
      "\n",
      "Random Forest Regression\n",
      "R2: 0.371\n",
      "RMSE: 0.204\n",
      "\n",
      "\n"
     ]
    }
   ],
   "source": [
    "predict_all_models(DNALM_Genex, \"DNALM + Gene Expressions\", prediction_type=\"dmf\")"
   ]
  },
  {
   "cell_type": "markdown",
   "id": "cda25225",
   "metadata": {},
   "source": [
    "## DNALM + Yeastnet + Gene expressions"
   ]
  },
  {
   "cell_type": "code",
   "execution_count": 6,
   "id": "0f98eaff",
   "metadata": {},
   "outputs": [
    {
     "name": "stdout",
     "output_type": "stream",
     "text": [
      "Running for combination: DNALM + YeastNet + Gene Expressions\n",
      "\n",
      "\n",
      "Linear Regression\n",
      "R2: -2.563\n",
      "RMSE: 0.485\n",
      "\n",
      "\n",
      "Linear Regression with PCA\n",
      "R2: 0.272\n",
      "RMSE: 0.219\n",
      "\n",
      "\n",
      "Ridge Regression\n",
      "R2: 0.346\n",
      "RMSE: 0.208\n",
      "\n",
      "\n",
      "XGBoost Regression\n",
      "R2: 0.483\n",
      "RMSE: 0.185\n",
      "\n",
      "\n",
      "Random Forest Regression\n",
      "R2: 0.377\n",
      "RMSE: 0.203\n",
      "\n",
      "\n"
     ]
    }
   ],
   "source": [
    "predict_all_models(DNALM_YeastNet_Genex, \"DNALM + YeastNet + Gene Expressions\", prediction_type=\"dmf\")"
   ]
  }
 ],
 "metadata": {
  "kernelspec": {
   "display_name": "Python 3",
   "language": "python",
   "name": "python3"
  },
  "language_info": {
   "codemirror_mode": {
    "name": "ipython",
    "version": 3
   },
   "file_extension": ".py",
   "mimetype": "text/x-python",
   "name": "python",
   "nbconvert_exporter": "python",
   "pygments_lexer": "ipython3",
   "version": "3.13.2"
  }
 },
 "nbformat": 4,
 "nbformat_minor": 5
}
