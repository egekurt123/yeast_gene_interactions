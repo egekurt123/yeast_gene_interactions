{
 "cells": [
  {
   "cell_type": "code",
   "execution_count": 17,
   "metadata": {},
   "outputs": [],
   "source": [
    "import numpy as np\n",
    "import pandas as pd\n",
    "from sklearn.model_selection import train_test_split, GridSearchCV\n",
    "from sklearn.linear_model import Lasso, Ridge\n",
    "import random"
   ]
  },
  {
   "cell_type": "code",
   "execution_count": 18,
   "metadata": {},
   "outputs": [],
   "source": [
    "ExE = pd.read_csv('extracted_data/ExE_imputed_5.csv', sep=',', index_col=0)\n",
    "NxN = pd.read_csv('extracted_data/NxN_imputed_10.csv', sep=',', index_col=0)\n",
    "ExN = pd.read_csv('extracted_data/ExN_filled_20.csv', sep=',', index_col=0)\n",
    "\n",
    "param_grid_lasso = {\n",
    "    'alpha': [0.00001, 0.00005, 0.0001, 0.0005, 0.001, 0.01]\n",
    "}\n",
    "\n",
    "param_grid_ridge = {\n",
    "    'alpha': [1, 5, 10, 50, 100, 200]\n",
    "}"
   ]
  },
  {
   "cell_type": "code",
   "execution_count": 19,
   "metadata": {},
   "outputs": [],
   "source": [
    "def grid_search_for_model(model, param_grid, X, y):\n",
    "    X_train, X_test, y_train, y_test = train_test_split(X, y, test_size=0.2, random_state=42)\n",
    "    \n",
    "    grid_search = GridSearchCV(model, param_grid, cv=5, scoring='r2', n_jobs=-1)\n",
    "    grid_search.fit(X_train, y_train)\n",
    "    \n",
    "    results = pd.DataFrame(grid_search.cv_results_)\n",
    "\n",
    "    return grid_search.best_params_, results\n",
    "\n",
    "def iterate_over_proportion_for_best_params(data, proportion):\n",
    "    num_columns = max(1, int(data.shape[1] * proportion))\n",
    "    selected_columns = random.sample(data.columns.tolist(), num_columns)\n",
    "\n",
    "    results = {}\n",
    "\n",
    "    for target_column in selected_columns:\n",
    "        X = data.drop(columns=[target_column])\n",
    "        y = data[target_column]\n",
    "\n",
    "        lasso_best_params, lasso_results = grid_search_for_model(Lasso(), param_grid_lasso, X, y)\n",
    "        ridge_best_params, ridge_results = grid_search_for_model(Ridge(), param_grid_ridge, X, y)\n",
    "\n",
    "        results[target_column] = {\n",
    "            'Lasso Best Params': lasso_best_params,\n",
    "            'Lasso Results': lasso_results,\n",
    "            'Ridge Best Params': ridge_best_params,\n",
    "            'Ridge Results': ridge_results\n",
    "        }\n",
    "\n",
    "    return results"
   ]
  },
  {
   "cell_type": "code",
   "execution_count": 20,
   "metadata": {},
   "outputs": [],
   "source": [
    "def print_average_r2(results, dataset_name):\n",
    "    print(f\"\\nAverage R² Scores for {dataset_name}:\")\n",
    "\n",
    "    lasso_scores = {}\n",
    "    ridge_scores = {}\n",
    "\n",
    "    for run in results.values():\n",
    "        lasso = run['Lasso Results']\n",
    "        ridge = run['Ridge Results']\n",
    "\n",
    "        for alpha, r2 in zip(lasso['param_alpha'], lasso['mean_test_score']):\n",
    "            lasso_scores.setdefault(alpha, []).append(r2)\n",
    "            \n",
    "        for alpha, r2 in zip(ridge['param_alpha'], ridge['mean_test_score']):\n",
    "            ridge_scores.setdefault(alpha, []).append(r2)\n",
    "\n",
    "    def print_scores(scores, model_name):\n",
    "        print(f\"\\n{model_name} Regression:\")\n",
    "        for alpha in sorted(scores):\n",
    "            avg_r2 = np.mean(scores[alpha])\n",
    "            print(f\"Alpha: {alpha}, Average R²: {avg_r2:.4f}\")\n",
    "\n",
    "    print_scores(lasso_scores, \"Lasso\")\n",
    "    print_scores(ridge_scores, \"Ridge\")\n",
    "\n",
    "\n",
    "# print best parameter for every single result\n",
    "def print_best_params(results, dataset_name):\n",
    "    print(f\"\\nBest Parameters for {dataset_name}:\")\n",
    "    for target_column, params in results.items():\n",
    "        print(f\"\\nTarget Column: {target_column}\")\n",
    "        print(f\"Lasso Best Params: {params['Lasso Best Params']}\")\n",
    "        print(f\"Ridge Best Params: {params['Ridge Best Params']}\")\n"
   ]
  },
  {
   "cell_type": "code",
   "execution_count": 21,
   "metadata": {},
   "outputs": [
    {
     "name": "stderr",
     "output_type": "stream",
     "text": [
      "/Library/Frameworks/Python.framework/Versions/3.12/lib/python3.12/site-packages/sklearn/linear_model/_coordinate_descent.py:697: ConvergenceWarning: Objective did not converge. You might want to increase the number of iterations, check the scale of the features or consider increasing regularisation. Duality gap: 6.757e-04, tolerance: 5.505e-04\n",
      "  model = cd_fast.enet_coordinate_descent(\n",
      "/Library/Frameworks/Python.framework/Versions/3.12/lib/python3.12/site-packages/joblib/externals/loky/process_executor.py:752: UserWarning: A worker stopped while some jobs were given to the executor. This can be caused by a too short worker timeout or by a memory leak.\n",
      "  warnings.warn(\n",
      "/Library/Frameworks/Python.framework/Versions/3.12/lib/python3.12/site-packages/joblib/externals/loky/process_executor.py:752: UserWarning: A worker stopped while some jobs were given to the executor. This can be caused by a too short worker timeout or by a memory leak.\n",
      "  warnings.warn(\n"
     ]
    }
   ],
   "source": [
    "random.seed(35)\n",
    "proportion = 0.01\n",
    "\n",
    "best_params_ExE = iterate_over_proportion_for_best_params(ExE, proportion)\n",
    "best_params_NxN = iterate_over_proportion_for_best_params(NxN, proportion)\n",
    "best_params_ExN = iterate_over_proportion_for_best_params(ExN, proportion)"
   ]
  },
  {
   "cell_type": "code",
   "execution_count": 22,
   "metadata": {},
   "outputs": [
    {
     "name": "stdout",
     "output_type": "stream",
     "text": [
      "\n",
      "Average R² Scores for ExE:\n",
      "\n",
      "Lasso Regression:\n",
      "Alpha: 1e-05, Average R²: -0.2165\n",
      "Alpha: 5e-05, Average R²: 0.2188\n",
      "Alpha: 0.0001, Average R²: 0.3059\n",
      "Alpha: 0.0005, Average R²: 0.3043\n",
      "Alpha: 0.001, Average R²: 0.2412\n",
      "Alpha: 0.01, Average R²: -0.0164\n",
      "\n",
      "Ridge Regression:\n",
      "Alpha: 1, Average R²: 0.2829\n",
      "Alpha: 5, Average R²: 0.3590\n",
      "Alpha: 10, Average R²: 0.3464\n",
      "Alpha: 50, Average R²: 0.2422\n",
      "Alpha: 100, Average R²: 0.1779\n",
      "Alpha: 200, Average R²: 0.1154\n"
     ]
    }
   ],
   "source": [
    "print_average_r2(best_params_ExE, \"ExE\")"
   ]
  },
  {
   "cell_type": "code",
   "execution_count": 23,
   "metadata": {},
   "outputs": [
    {
     "name": "stdout",
     "output_type": "stream",
     "text": [
      "\n",
      "Average R² Scores for NxN:\n",
      "\n",
      "Lasso Regression:\n",
      "Alpha: 1e-05, Average R²: 0.1129\n",
      "Alpha: 5e-05, Average R²: 0.2528\n",
      "Alpha: 0.0001, Average R²: 0.2145\n",
      "Alpha: 0.0005, Average R²: 0.0557\n",
      "Alpha: 0.001, Average R²: 0.0195\n",
      "Alpha: 0.01, Average R²: -0.0031\n",
      "\n",
      "Ridge Regression:\n",
      "Alpha: 1, Average R²: 0.1026\n",
      "Alpha: 5, Average R²: 0.2215\n",
      "Alpha: 10, Average R²: 0.2296\n",
      "Alpha: 50, Average R²: 0.1764\n",
      "Alpha: 100, Average R²: 0.1357\n",
      "Alpha: 200, Average R²: 0.0941\n"
     ]
    }
   ],
   "source": [
    "print_average_r2(best_params_NxN, \"NxN\")\n"
   ]
  },
  {
   "cell_type": "code",
   "execution_count": 24,
   "metadata": {},
   "outputs": [
    {
     "name": "stdout",
     "output_type": "stream",
     "text": [
      "\n",
      "Average R² Scores for ExN:\n",
      "\n",
      "Lasso Regression:\n",
      "Alpha: 1e-05, Average R²: -0.0349\n",
      "Alpha: 5e-05, Average R²: 0.0803\n",
      "Alpha: 0.0001, Average R²: 0.0792\n",
      "Alpha: 0.0005, Average R²: -0.0015\n",
      "Alpha: 0.001, Average R²: -0.0027\n",
      "Alpha: 0.01, Average R²: -0.0027\n",
      "\n",
      "Ridge Regression:\n",
      "Alpha: 1, Average R²: 0.0825\n",
      "Alpha: 5, Average R²: 0.1276\n",
      "Alpha: 10, Average R²: 0.1123\n",
      "Alpha: 50, Average R²: 0.0508\n",
      "Alpha: 100, Average R²: 0.0296\n",
      "Alpha: 200, Average R²: 0.0153\n"
     ]
    }
   ],
   "source": [
    "print_average_r2(best_params_ExN, \"ExN\")"
   ]
  },
  {
   "cell_type": "markdown",
   "metadata": {},
   "source": [
    "## Individual results for genes"
   ]
  },
  {
   "cell_type": "code",
   "execution_count": 25,
   "metadata": {},
   "outputs": [
    {
     "name": "stdout",
     "output_type": "stream",
     "text": [
      "\n",
      "Best Parameters for ExE:\n",
      "\n",
      "Target Column: YPL169C\n",
      "Lasso Best Params: {'alpha': 0.0001}\n",
      "Ridge Best Params: {'alpha': 5}\n",
      "\n",
      "Target Column: YGL112C\n",
      "Lasso Best Params: {'alpha': 0.0001}\n",
      "Ridge Best Params: {'alpha': 5}\n",
      "\n",
      "Target Column: YKL104C\n",
      "Lasso Best Params: {'alpha': 0.0001}\n",
      "Ridge Best Params: {'alpha': 5}\n",
      "\n",
      "Target Column: YPL209C.1\n",
      "Lasso Best Params: {'alpha': 0.0005}\n",
      "Ridge Best Params: {'alpha': 10}\n",
      "\n",
      "Target Column: YLR105C\n",
      "Lasso Best Params: {'alpha': 0.0001}\n",
      "Ridge Best Params: {'alpha': 10}\n",
      "\n",
      "Target Column: YML015C\n",
      "Lasso Best Params: {'alpha': 0.0005}\n",
      "Ridge Best Params: {'alpha': 1}\n",
      "\n",
      "Target Column: YLR045C.2\n",
      "Lasso Best Params: {'alpha': 0.0005}\n",
      "Ridge Best Params: {'alpha': 5}\n"
     ]
    }
   ],
   "source": [
    "print_best_params(best_params_ExE, \"ExE\")"
   ]
  },
  {
   "cell_type": "code",
   "execution_count": 26,
   "metadata": {},
   "outputs": [
    {
     "name": "stdout",
     "output_type": "stream",
     "text": [
      "\n",
      "Best Parameters for NxN:\n",
      "\n",
      "Target Column: YDR493W\n",
      "Lasso Best Params: {'alpha': 5e-05}\n",
      "Ridge Best Params: {'alpha': 10}\n",
      "\n",
      "Target Column: YMR087W\n",
      "Lasso Best Params: {'alpha': 5e-05}\n",
      "Ridge Best Params: {'alpha': 10}\n",
      "\n",
      "Target Column: YMR101C\n",
      "Lasso Best Params: {'alpha': 5e-05}\n",
      "Ridge Best Params: {'alpha': 50}\n",
      "\n",
      "Target Column: YGR254W\n",
      "Lasso Best Params: {'alpha': 5e-05}\n",
      "Ridge Best Params: {'alpha': 10}\n",
      "\n",
      "Target Column: YDL037C\n",
      "Lasso Best Params: {'alpha': 5e-05}\n",
      "Ridge Best Params: {'alpha': 10}\n",
      "\n",
      "Target Column: YBR076W\n",
      "Lasso Best Params: {'alpha': 5e-05}\n",
      "Ridge Best Params: {'alpha': 10}\n",
      "\n",
      "Target Column: YKL081W\n",
      "Lasso Best Params: {'alpha': 1e-05}\n",
      "Ridge Best Params: {'alpha': 1}\n",
      "\n",
      "Target Column: YDR127W\n",
      "Lasso Best Params: {'alpha': 5e-05}\n",
      "Ridge Best Params: {'alpha': 1}\n",
      "\n",
      "Target Column: YPL184C\n",
      "Lasso Best Params: {'alpha': 5e-05}\n",
      "Ridge Best Params: {'alpha': 10}\n",
      "\n",
      "Target Column: YHR047C\n",
      "Lasso Best Params: {'alpha': 5e-05}\n",
      "Ridge Best Params: {'alpha': 10}\n",
      "\n",
      "Target Column: YJL211C\n",
      "Lasso Best Params: {'alpha': 5e-05}\n",
      "Ridge Best Params: {'alpha': 5}\n",
      "\n",
      "Target Column: YBR010W\n",
      "Lasso Best Params: {'alpha': 5e-05}\n",
      "Ridge Best Params: {'alpha': 10}\n",
      "\n",
      "Target Column: YLR185W\n",
      "Lasso Best Params: {'alpha': 1e-05}\n",
      "Ridge Best Params: {'alpha': 1}\n",
      "\n",
      "Target Column: YBR278W\n",
      "Lasso Best Params: {'alpha': 5e-05}\n",
      "Ridge Best Params: {'alpha': 10}\n",
      "\n",
      "Target Column: YMR010W\n",
      "Lasso Best Params: {'alpha': 5e-05}\n",
      "Ridge Best Params: {'alpha': 10}\n",
      "\n",
      "Target Column: YOR042W\n",
      "Lasso Best Params: {'alpha': 5e-05}\n",
      "Ridge Best Params: {'alpha': 10}\n",
      "\n",
      "Target Column: YDR061W\n",
      "Lasso Best Params: {'alpha': 5e-05}\n",
      "Ridge Best Params: {'alpha': 10}\n",
      "\n",
      "Target Column: YMR216C\n",
      "Lasso Best Params: {'alpha': 5e-05}\n",
      "Ridge Best Params: {'alpha': 10}\n",
      "\n",
      "Target Column: YGL090W\n",
      "Lasso Best Params: {'alpha': 5e-05}\n",
      "Ridge Best Params: {'alpha': 10}\n",
      "\n",
      "Target Column: YKR015C\n",
      "Lasso Best Params: {'alpha': 1e-05}\n",
      "Ridge Best Params: {'alpha': 5}\n",
      "\n",
      "Target Column: YDR255C\n",
      "Lasso Best Params: {'alpha': 5e-05}\n",
      "Ridge Best Params: {'alpha': 10}\n",
      "\n",
      "Target Column: YGR256W\n",
      "Lasso Best Params: {'alpha': 5e-05}\n",
      "Ridge Best Params: {'alpha': 10}\n",
      "\n",
      "Target Column: YML060W\n",
      "Lasso Best Params: {'alpha': 5e-05}\n",
      "Ridge Best Params: {'alpha': 50}\n",
      "\n",
      "Target Column: YLR231C\n",
      "Lasso Best Params: {'alpha': 5e-05}\n",
      "Ridge Best Params: {'alpha': 10}\n",
      "\n",
      "Target Column: YKR030W\n",
      "Lasso Best Params: {'alpha': 5e-05}\n",
      "Ridge Best Params: {'alpha': 10}\n",
      "\n",
      "Target Column: YNR007C\n",
      "Lasso Best Params: {'alpha': 1e-05}\n",
      "Ridge Best Params: {'alpha': 1}\n",
      "\n",
      "Target Column: YDR080W\n",
      "Lasso Best Params: {'alpha': 5e-05}\n",
      "Ridge Best Params: {'alpha': 5}\n",
      "\n",
      "Target Column: YDR389W\n",
      "Lasso Best Params: {'alpha': 5e-05}\n",
      "Ridge Best Params: {'alpha': 5}\n",
      "\n",
      "Target Column: YLR092W\n",
      "Lasso Best Params: {'alpha': 5e-05}\n",
      "Ridge Best Params: {'alpha': 10}\n",
      "\n",
      "Target Column: YKL218C\n",
      "Lasso Best Params: {'alpha': 5e-05}\n",
      "Ridge Best Params: {'alpha': 50}\n",
      "\n",
      "Target Column: YBR078W\n",
      "Lasso Best Params: {'alpha': 5e-05}\n",
      "Ridge Best Params: {'alpha': 5}\n",
      "\n",
      "Target Column: YGR055W\n",
      "Lasso Best Params: {'alpha': 5e-05}\n",
      "Ridge Best Params: {'alpha': 10}\n",
      "\n",
      "Target Column: YLR070C\n",
      "Lasso Best Params: {'alpha': 5e-05}\n",
      "Ridge Best Params: {'alpha': 10}\n",
      "\n",
      "Target Column: YGR035C\n",
      "Lasso Best Params: {'alpha': 5e-05}\n",
      "Ridge Best Params: {'alpha': 10}\n",
      "\n",
      "Target Column: YCR095C\n",
      "Lasso Best Params: {'alpha': 5e-05}\n",
      "Ridge Best Params: {'alpha': 10}\n",
      "\n",
      "Target Column: YHR179W\n",
      "Lasso Best Params: {'alpha': 5e-05}\n",
      "Ridge Best Params: {'alpha': 10}\n",
      "\n",
      "Target Column: YDR259C\n",
      "Lasso Best Params: {'alpha': 5e-05}\n",
      "Ridge Best Params: {'alpha': 10}\n"
     ]
    }
   ],
   "source": [
    "print_best_params(best_params_NxN, \"NxN\")"
   ]
  },
  {
   "cell_type": "code",
   "execution_count": 27,
   "metadata": {},
   "outputs": [
    {
     "name": "stdout",
     "output_type": "stream",
     "text": [
      "\n",
      "Best Parameters for ExN:\n",
      "\n",
      "Target Column: YKL104C\n",
      "Lasso Best Params: {'alpha': 0.0001}\n",
      "Ridge Best Params: {'alpha': 5}\n",
      "\n",
      "Target Column: YBL105C.1\n",
      "Lasso Best Params: {'alpha': 5e-05}\n",
      "Ridge Best Params: {'alpha': 5}\n"
     ]
    }
   ],
   "source": [
    "print_best_params(best_params_ExN, \"ExN\")"
   ]
  }
 ],
 "metadata": {
  "kernelspec": {
   "display_name": "Python 3",
   "language": "python",
   "name": "python3"
  },
  "language_info": {
   "codemirror_mode": {
    "name": "ipython",
    "version": 3
   },
   "file_extension": ".py",
   "mimetype": "text/x-python",
   "name": "python",
   "nbconvert_exporter": "python",
   "pygments_lexer": "ipython3",
   "version": "3.12.3"
  }
 },
 "nbformat": 4,
 "nbformat_minor": 2
}
