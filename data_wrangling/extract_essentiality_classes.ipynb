{
 "cells": [
  {
   "cell_type": "code",
   "execution_count": 10,
   "id": "0ac17a09",
   "metadata": {},
   "outputs": [],
   "source": [
    "import pandas as pd\n",
    "\n",
    "# Define your sources and file paths\n",
    "sources = {\n",
    "    \"Essential\": \"../extracted_data/interaction_table_ee.csv\",\n",
    "    \"Nonessential\": \"../extracted_data/interaction_table_nn.csv\",\n",
    "}\n",
    "\n",
    "gene_source_rows = []\n",
    "\n",
    "for source, path in sources.items():\n",
    "    df = pd.read_csv(path)\n",
    "    genes = pd.unique(df[[\"query_gene\", \"array_gene\"]].values.ravel())\n",
    "    for gene in genes:\n",
    "        gene_source_rows.append({\"gene\": gene, \"Essential\": 0 if source == \"Nonessential\" else 1})\n"
   ]
  },
  {
   "cell_type": "code",
   "execution_count": 11,
   "id": "4e91109c",
   "metadata": {},
   "outputs": [
    {
     "data": {
      "text/html": [
       "<div>\n",
       "<style scoped>\n",
       "    .dataframe tbody tr th:only-of-type {\n",
       "        vertical-align: middle;\n",
       "    }\n",
       "\n",
       "    .dataframe tbody tr th {\n",
       "        vertical-align: top;\n",
       "    }\n",
       "\n",
       "    .dataframe thead th {\n",
       "        text-align: right;\n",
       "    }\n",
       "</style>\n",
       "<table border=\"1\" class=\"dataframe\">\n",
       "  <thead>\n",
       "    <tr style=\"text-align: right;\">\n",
       "      <th></th>\n",
       "      <th>gene</th>\n",
       "      <th>Essential</th>\n",
       "    </tr>\n",
       "  </thead>\n",
       "  <tbody>\n",
       "    <tr>\n",
       "      <th>0</th>\n",
       "      <td>YAL001C</td>\n",
       "      <td>1</td>\n",
       "    </tr>\n",
       "    <tr>\n",
       "      <th>1</th>\n",
       "      <td>YBL023C</td>\n",
       "      <td>1</td>\n",
       "    </tr>\n",
       "    <tr>\n",
       "      <th>2</th>\n",
       "      <td>YBL026W</td>\n",
       "      <td>1</td>\n",
       "    </tr>\n",
       "    <tr>\n",
       "      <th>3</th>\n",
       "      <td>YBL034C</td>\n",
       "      <td>1</td>\n",
       "    </tr>\n",
       "    <tr>\n",
       "      <th>4</th>\n",
       "      <td>YBL035C</td>\n",
       "      <td>1</td>\n",
       "    </tr>\n",
       "    <tr>\n",
       "      <th>...</th>\n",
       "      <td>...</td>\n",
       "      <td>...</td>\n",
       "    </tr>\n",
       "    <tr>\n",
       "      <th>5170</th>\n",
       "      <td>YPR124W</td>\n",
       "      <td>0</td>\n",
       "    </tr>\n",
       "    <tr>\n",
       "      <th>5171</th>\n",
       "      <td>YPR131C</td>\n",
       "      <td>0</td>\n",
       "    </tr>\n",
       "    <tr>\n",
       "      <th>5172</th>\n",
       "      <td>YPR133W-A</td>\n",
       "      <td>0</td>\n",
       "    </tr>\n",
       "    <tr>\n",
       "      <th>5173</th>\n",
       "      <td>YPR159C-A</td>\n",
       "      <td>0</td>\n",
       "    </tr>\n",
       "    <tr>\n",
       "      <th>5174</th>\n",
       "      <td>YPR173C</td>\n",
       "      <td>0</td>\n",
       "    </tr>\n",
       "  </tbody>\n",
       "</table>\n",
       "<p>5175 rows × 2 columns</p>\n",
       "</div>"
      ],
      "text/plain": [
       "           gene  Essential\n",
       "0       YAL001C          1\n",
       "1       YBL023C          1\n",
       "2       YBL026W          1\n",
       "3       YBL034C          1\n",
       "4       YBL035C          1\n",
       "...         ...        ...\n",
       "5170    YPR124W          0\n",
       "5171    YPR131C          0\n",
       "5172  YPR133W-A          0\n",
       "5173  YPR159C-A          0\n",
       "5174    YPR173C          0\n",
       "\n",
       "[5175 rows x 2 columns]"
      ]
     },
     "execution_count": 11,
     "metadata": {},
     "output_type": "execute_result"
    }
   ],
   "source": [
    "gene_source_df = pd.DataFrame(gene_source_rows)\n",
    "gene_source_df"
   ]
  },
  {
   "cell_type": "code",
   "execution_count": 12,
   "id": "85a013d1",
   "metadata": {},
   "outputs": [],
   "source": [
    "# Create DataFrame and save\n",
    "gene_source_df.to_csv(\"../extracted_data/essentiality_classes.csv\", index=False)"
   ]
  }
 ],
 "metadata": {
  "kernelspec": {
   "display_name": "Python 3",
   "language": "python",
   "name": "python3"
  },
  "language_info": {
   "codemirror_mode": {
    "name": "ipython",
    "version": 3
   },
   "file_extension": ".py",
   "mimetype": "text/x-python",
   "name": "python",
   "nbconvert_exporter": "python",
   "pygments_lexer": "ipython3",
   "version": "3.12.3"
  }
 },
 "nbformat": 4,
 "nbformat_minor": 5
}
