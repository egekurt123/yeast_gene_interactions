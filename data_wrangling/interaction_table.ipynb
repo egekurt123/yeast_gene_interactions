{
 "cells": [
  {
   "cell_type": "code",
   "execution_count": 8,
   "id": "ed7c4930-c14f-4e2f-bd75-c34540fe4ceb",
   "metadata": {},
   "outputs": [],
   "source": [
    "import numpy as np\n",
    "import pandas as pd\n",
    "import plotnine as p9\n",
    "\n",
    "from statsmodels.stats.multitest import multipletests"
   ]
  },
  {
   "cell_type": "markdown",
   "id": "00ad7732-1313-4ea9-8573-13ed05866331",
   "metadata": {},
   "source": [
    "# Load and aggregate all three tables (ExE, NxN, NxE)"
   ]
  },
  {
   "cell_type": "code",
   "execution_count": 9,
   "id": "31e58782-4921-4533-a549-0c00f416b7fb",
   "metadata": {},
   "outputs": [],
   "source": [
    "def preprocess_data(path):\n",
    "    ee = pd.read_csv('../../../../../../s/project/yeast_gxg/data/constanzo2016/'+path, sep='\\t')\n",
    "    ee.columns = ee.columns.str.replace(' ', '_')\n",
    "    \n",
    "    ee['query_gene'] = ee.Query_Strain_ID.str.split('_',expand=True)[0]\n",
    "    ee['array_gene'] = ee.Array_Strain_ID.str.split('_',expand=True)[0]\n",
    "    ee['temp'] = ee['Arraytype/Temp'].str[-2:]\n",
    "    \n",
    "    ee['dmf'] = ee['Double_mutant_fitness']\n",
    "    ee['gi_score'] = ee['Genetic_interaction_score_(ε)']\n",
    "    \n",
    "    ee['smf_q'] = ee['Query_single_mutant_fitness_(SMF)']\n",
    "    ee['smf_a'] = ee['Array_SMF']\n",
    "    ee['smf_qxa'] = ee['smf_q'] * ee['smf_a']\n",
    "    ee = ee[['query_gene', 'array_gene', 'dmf', 'gi_score', 'P-value', 'temp', 'smf_q', 'smf_a', 'smf_qxa']]\n",
    "    \n",
    "    return ee"
   ]
  },
  {
   "cell_type": "code",
   "execution_count": 10,
   "id": "89c3e9e0-a4e7-4de3-845a-1aa1dc4a5c88",
   "metadata": {},
   "outputs": [],
   "source": [
    "pathes_constanzo = ['SGA_ExE.txt', 'SGA_NxN.txt', 'SGA_ExN_NxE.txt']\n",
    "ee = preprocess_data(pathes_constanzo[0])\n",
    "nn = preprocess_data(pathes_constanzo[1])\n",
    "en = preprocess_data(pathes_constanzo[2])"
   ]
  },
  {
   "cell_type": "code",
   "execution_count": 11,
   "id": "3ab668da",
   "metadata": {},
   "outputs": [],
   "source": [
    "essential_genes = list(set(ee.query_gene.unique()) | set(ee.array_gene.unique()))\n",
    "#nonessential_genes = list(set(nn.query_gene.unique()) | set(nn.array_gene.unique()))"
   ]
  },
  {
   "cell_type": "code",
   "execution_count": 12,
   "id": "6ae3976b-1a78-4d36-805a-e1c8c28447d2",
   "metadata": {},
   "outputs": [
    {
     "data": {
      "text/html": [
       "<div>\n",
       "<style scoped>\n",
       "    .dataframe tbody tr th:only-of-type {\n",
       "        vertical-align: middle;\n",
       "    }\n",
       "\n",
       "    .dataframe tbody tr th {\n",
       "        vertical-align: top;\n",
       "    }\n",
       "\n",
       "    .dataframe thead th {\n",
       "        text-align: right;\n",
       "    }\n",
       "</style>\n",
       "<table border=\"1\" class=\"dataframe\">\n",
       "  <thead>\n",
       "    <tr style=\"text-align: right;\">\n",
       "      <th></th>\n",
       "      <th>query_gene</th>\n",
       "      <th>array_gene</th>\n",
       "      <th>dmf</th>\n",
       "      <th>gi_score</th>\n",
       "      <th>P-value</th>\n",
       "      <th>temp</th>\n",
       "      <th>smf_q</th>\n",
       "      <th>smf_a</th>\n",
       "      <th>smf_qxa</th>\n",
       "    </tr>\n",
       "  </thead>\n",
       "  <tbody>\n",
       "    <tr>\n",
       "      <th>0</th>\n",
       "      <td>YAL001C</td>\n",
       "      <td>YBL023C</td>\n",
       "      <td>0.7319</td>\n",
       "      <td>-0.0348</td>\n",
       "      <td>0.005042</td>\n",
       "      <td>30</td>\n",
       "      <td>0.8285</td>\n",
       "      <td>0.9254</td>\n",
       "      <td>0.766694</td>\n",
       "    </tr>\n",
       "    <tr>\n",
       "      <th>1</th>\n",
       "      <td>YAL001C</td>\n",
       "      <td>YBL026W</td>\n",
       "      <td>0.4266</td>\n",
       "      <td>-0.3529</td>\n",
       "      <td>0.000004</td>\n",
       "      <td>30</td>\n",
       "      <td>0.8285</td>\n",
       "      <td>0.9408</td>\n",
       "      <td>0.779453</td>\n",
       "    </tr>\n",
       "    <tr>\n",
       "      <th>2</th>\n",
       "      <td>YAL001C</td>\n",
       "      <td>YBL034C</td>\n",
       "      <td>0.7520</td>\n",
       "      <td>0.0126</td>\n",
       "      <td>0.462500</td>\n",
       "      <td>30</td>\n",
       "      <td>0.8285</td>\n",
       "      <td>0.8925</td>\n",
       "      <td>0.739436</td>\n",
       "    </tr>\n",
       "    <tr>\n",
       "      <th>3</th>\n",
       "      <td>YAL001C</td>\n",
       "      <td>YBL034C</td>\n",
       "      <td>0.6661</td>\n",
       "      <td>0.0043</td>\n",
       "      <td>0.499800</td>\n",
       "      <td>30</td>\n",
       "      <td>0.8285</td>\n",
       "      <td>0.7988</td>\n",
       "      <td>0.661806</td>\n",
       "    </tr>\n",
       "    <tr>\n",
       "      <th>4</th>\n",
       "      <td>YAL001C</td>\n",
       "      <td>YBL034C</td>\n",
       "      <td>0.4764</td>\n",
       "      <td>-0.1601</td>\n",
       "      <td>0.051400</td>\n",
       "      <td>30</td>\n",
       "      <td>0.8285</td>\n",
       "      <td>0.7683</td>\n",
       "      <td>0.636537</td>\n",
       "    </tr>\n",
       "  </tbody>\n",
       "</table>\n",
       "</div>"
      ],
      "text/plain": [
       "  query_gene array_gene     dmf  gi_score   P-value temp   smf_q   smf_a  \\\n",
       "0    YAL001C    YBL023C  0.7319   -0.0348  0.005042   30  0.8285  0.9254   \n",
       "1    YAL001C    YBL026W  0.4266   -0.3529  0.000004   30  0.8285  0.9408   \n",
       "2    YAL001C    YBL034C  0.7520    0.0126  0.462500   30  0.8285  0.8925   \n",
       "3    YAL001C    YBL034C  0.6661    0.0043  0.499800   30  0.8285  0.7988   \n",
       "4    YAL001C    YBL034C  0.4764   -0.1601  0.051400   30  0.8285  0.7683   \n",
       "\n",
       "    smf_qxa  \n",
       "0  0.766694  \n",
       "1  0.779453  \n",
       "2  0.739436  \n",
       "3  0.661806  \n",
       "4  0.636537  "
      ]
     },
     "execution_count": 12,
     "metadata": {},
     "output_type": "execute_result"
    }
   ],
   "source": [
    "ee.head()"
   ]
  },
  {
   "cell_type": "markdown",
   "id": "90255a4c-3c42-49dd-96b1-c59a5d6b11b7",
   "metadata": {},
   "source": [
    "Let's now not care about temperature and just select the measurement with the lowest p-value?"
   ]
  },
  {
   "cell_type": "code",
   "execution_count": 13,
   "id": "855a439a-b370-45aa-bc8e-5a1ffb11d5c6",
   "metadata": {},
   "outputs": [
    {
     "data": {
      "text/plain": [
       "temp\n",
       "26    815635\n",
       "30      2935\n",
       "Name: count, dtype: int64"
      ]
     },
     "execution_count": 13,
     "metadata": {},
     "output_type": "execute_result"
    }
   ],
   "source": [
    "ee.temp.value_counts()"
   ]
  },
  {
   "cell_type": "code",
   "execution_count": 14,
   "id": "7e0b707a-3ed7-44f1-8ce3-4ef0261f72db",
   "metadata": {},
   "outputs": [
    {
     "data": {
      "text/plain": [
       "temp\n",
       "30    12280559\n",
       "26      418380\n",
       "Name: count, dtype: int64"
      ]
     },
     "execution_count": 14,
     "metadata": {},
     "output_type": "execute_result"
    }
   ],
   "source": [
    "nn.temp.value_counts()"
   ]
  },
  {
   "cell_type": "code",
   "execution_count": 15,
   "id": "0859b427-a7d8-4465-83aa-c39cf18b9ebc",
   "metadata": {},
   "outputs": [
    {
     "data": {
      "text/plain": [
       "temp\n",
       "26    4197250\n",
       "30    1598895\n",
       "Name: count, dtype: int64"
      ]
     },
     "execution_count": 15,
     "metadata": {},
     "output_type": "execute_result"
    }
   ],
   "source": [
    "en.temp.value_counts()"
   ]
  },
  {
   "cell_type": "code",
   "execution_count": 16,
   "id": "15e604cb-9eb8-43e8-a602-9d74e492acec",
   "metadata": {},
   "outputs": [],
   "source": [
    "def correction(ee):\n",
    "    reject, pvals_corrected, _, _ = multipletests(ee['P-value'], method = 'bonferroni')\n",
    "    ee['P-value-bonferroni'] = pvals_corrected\n",
    "    reject, pvals_corrected, _, _ = multipletests(ee['P-value'], method = 'fdr_bh')\n",
    "    ee['P-value-bh'] = pvals_corrected\n",
    "    return ee"
   ]
  },
  {
   "cell_type": "code",
   "execution_count": 17,
   "id": "7dca7456-8696-4ccd-8e74-b57010cf6a69",
   "metadata": {},
   "outputs": [],
   "source": [
    "ee = correction(ee)"
   ]
  },
  {
   "cell_type": "code",
   "execution_count": 18,
   "id": "7678b6f6-7ee3-44c5-8d03-0f151dc9738f",
   "metadata": {},
   "outputs": [
    {
     "data": {
      "text/html": [
       "<div>\n",
       "<style scoped>\n",
       "    .dataframe tbody tr th:only-of-type {\n",
       "        vertical-align: middle;\n",
       "    }\n",
       "\n",
       "    .dataframe tbody tr th {\n",
       "        vertical-align: top;\n",
       "    }\n",
       "\n",
       "    .dataframe thead th {\n",
       "        text-align: right;\n",
       "    }\n",
       "</style>\n",
       "<table border=\"1\" class=\"dataframe\">\n",
       "  <thead>\n",
       "    <tr style=\"text-align: right;\">\n",
       "      <th></th>\n",
       "      <th>query_gene</th>\n",
       "      <th>array_gene</th>\n",
       "      <th>dmf</th>\n",
       "      <th>gi_score</th>\n",
       "      <th>P-value</th>\n",
       "      <th>temp</th>\n",
       "      <th>smf_q</th>\n",
       "      <th>smf_a</th>\n",
       "      <th>smf_qxa</th>\n",
       "      <th>P-value-bonferroni</th>\n",
       "      <th>P-value-bh</th>\n",
       "    </tr>\n",
       "  </thead>\n",
       "  <tbody>\n",
       "    <tr>\n",
       "      <th>0</th>\n",
       "      <td>YAL001C</td>\n",
       "      <td>YBL023C</td>\n",
       "      <td>0.7319</td>\n",
       "      <td>-0.0348</td>\n",
       "      <td>0.005042</td>\n",
       "      <td>30</td>\n",
       "      <td>0.8285</td>\n",
       "      <td>0.9254</td>\n",
       "      <td>0.766694</td>\n",
       "      <td>1.0</td>\n",
       "      <td>0.032588</td>\n",
       "    </tr>\n",
       "    <tr>\n",
       "      <th>1</th>\n",
       "      <td>YAL001C</td>\n",
       "      <td>YBL026W</td>\n",
       "      <td>0.4266</td>\n",
       "      <td>-0.3529</td>\n",
       "      <td>0.000004</td>\n",
       "      <td>30</td>\n",
       "      <td>0.8285</td>\n",
       "      <td>0.9408</td>\n",
       "      <td>0.779453</td>\n",
       "      <td>1.0</td>\n",
       "      <td>0.000053</td>\n",
       "    </tr>\n",
       "    <tr>\n",
       "      <th>2</th>\n",
       "      <td>YAL001C</td>\n",
       "      <td>YBL034C</td>\n",
       "      <td>0.7520</td>\n",
       "      <td>0.0126</td>\n",
       "      <td>0.462500</td>\n",
       "      <td>30</td>\n",
       "      <td>0.8285</td>\n",
       "      <td>0.8925</td>\n",
       "      <td>0.739436</td>\n",
       "      <td>1.0</td>\n",
       "      <td>0.496629</td>\n",
       "    </tr>\n",
       "    <tr>\n",
       "      <th>3</th>\n",
       "      <td>YAL001C</td>\n",
       "      <td>YBL034C</td>\n",
       "      <td>0.6661</td>\n",
       "      <td>0.0043</td>\n",
       "      <td>0.499800</td>\n",
       "      <td>30</td>\n",
       "      <td>0.8285</td>\n",
       "      <td>0.7988</td>\n",
       "      <td>0.661806</td>\n",
       "      <td>1.0</td>\n",
       "      <td>0.500746</td>\n",
       "    </tr>\n",
       "    <tr>\n",
       "      <th>4</th>\n",
       "      <td>YAL001C</td>\n",
       "      <td>YBL034C</td>\n",
       "      <td>0.4764</td>\n",
       "      <td>-0.1601</td>\n",
       "      <td>0.051400</td>\n",
       "      <td>30</td>\n",
       "      <td>0.8285</td>\n",
       "      <td>0.7683</td>\n",
       "      <td>0.636537</td>\n",
       "      <td>1.0</td>\n",
       "      <td>0.187847</td>\n",
       "    </tr>\n",
       "  </tbody>\n",
       "</table>\n",
       "</div>"
      ],
      "text/plain": [
       "  query_gene array_gene     dmf  gi_score   P-value temp   smf_q   smf_a  \\\n",
       "0    YAL001C    YBL023C  0.7319   -0.0348  0.005042   30  0.8285  0.9254   \n",
       "1    YAL001C    YBL026W  0.4266   -0.3529  0.000004   30  0.8285  0.9408   \n",
       "2    YAL001C    YBL034C  0.7520    0.0126  0.462500   30  0.8285  0.8925   \n",
       "3    YAL001C    YBL034C  0.6661    0.0043  0.499800   30  0.8285  0.7988   \n",
       "4    YAL001C    YBL034C  0.4764   -0.1601  0.051400   30  0.8285  0.7683   \n",
       "\n",
       "    smf_qxa  P-value-bonferroni  P-value-bh  \n",
       "0  0.766694                 1.0    0.032588  \n",
       "1  0.779453                 1.0    0.000053  \n",
       "2  0.739436                 1.0    0.496629  \n",
       "3  0.661806                 1.0    0.500746  \n",
       "4  0.636537                 1.0    0.187847  "
      ]
     },
     "execution_count": 18,
     "metadata": {},
     "output_type": "execute_result"
    }
   ],
   "source": [
    "ee.head()"
   ]
  },
  {
   "cell_type": "code",
   "execution_count": 19,
   "id": "af1707e9-3f2c-4d03-ad3e-046d109b2ebd",
   "metadata": {},
   "outputs": [
    {
     "data": {
      "text/plain": [
       "(42359, 11)"
      ]
     },
     "execution_count": 19,
     "metadata": {},
     "output_type": "execute_result"
    }
   ],
   "source": [
    "ee[ee['P-value-bonferroni']<0.05].shape"
   ]
  },
  {
   "cell_type": "code",
   "execution_count": 20,
   "id": "22be5752-b05b-496c-bd55-12d0a2954665",
   "metadata": {},
   "outputs": [],
   "source": [
    "df = []\n",
    "for dataset in [ee, nn, en]:\n",
    "    dataset = correction(dataset)\n",
    "    df.append([dataset.shape[0],dataset[dataset['P-value']<0.05].shape[0],dataset[dataset['P-value-bh']<0.05].shape[0], dataset[dataset['P-value-bonferroni']<0.05].shape[0] ])"
   ]
  },
  {
   "cell_type": "code",
   "execution_count": 21,
   "id": "216e5a32-6657-4efb-bab7-04f613f6d649",
   "metadata": {},
   "outputs": [
    {
     "data": {
      "text/html": [
       "<div>\n",
       "<style scoped>\n",
       "    .dataframe tbody tr th:only-of-type {\n",
       "        vertical-align: middle;\n",
       "    }\n",
       "\n",
       "    .dataframe tbody tr th {\n",
       "        vertical-align: top;\n",
       "    }\n",
       "\n",
       "    .dataframe thead th {\n",
       "        text-align: right;\n",
       "    }\n",
       "</style>\n",
       "<table border=\"1\" class=\"dataframe\">\n",
       "  <thead>\n",
       "    <tr style=\"text-align: right;\">\n",
       "      <th></th>\n",
       "      <th>Initial</th>\n",
       "      <th>p_val_0.05</th>\n",
       "      <th>bh</th>\n",
       "      <th>bonferroni</th>\n",
       "    </tr>\n",
       "  </thead>\n",
       "  <tbody>\n",
       "    <tr>\n",
       "      <th>ExE</th>\n",
       "      <td>818570</td>\n",
       "      <td>221971</td>\n",
       "      <td>140393</td>\n",
       "      <td>42359</td>\n",
       "    </tr>\n",
       "    <tr>\n",
       "      <th>NxN</th>\n",
       "      <td>12698939</td>\n",
       "      <td>1498451</td>\n",
       "      <td>617685</td>\n",
       "      <td>168963</td>\n",
       "    </tr>\n",
       "    <tr>\n",
       "      <th>ExN_NxE</th>\n",
       "      <td>5796145</td>\n",
       "      <td>912495</td>\n",
       "      <td>428525</td>\n",
       "      <td>117767</td>\n",
       "    </tr>\n",
       "  </tbody>\n",
       "</table>\n",
       "</div>"
      ],
      "text/plain": [
       "          Initial  p_val_0.05      bh  bonferroni\n",
       "ExE        818570      221971  140393       42359\n",
       "NxN      12698939     1498451  617685      168963\n",
       "ExN_NxE   5796145      912495  428525      117767"
      ]
     },
     "execution_count": 21,
     "metadata": {},
     "output_type": "execute_result"
    }
   ],
   "source": [
    "pd.DataFrame(df, columns = ['Initial', 'p_val_0.05','bh', 'bonferroni'], index = ['ExE', 'NxN', 'ExN_NxE'])"
   ]
  },
  {
   "cell_type": "code",
   "execution_count": 22,
   "id": "1ec3f80c-b1ac-445b-babf-3eaafc9d2771",
   "metadata": {},
   "outputs": [],
   "source": [
    "ee['genes'] = 'ExE'\n",
    "nn['genes'] = 'NxN'\n",
    "en['genes'] = 'ExN_NxE'"
   ]
  },
  {
   "cell_type": "code",
   "execution_count": 23,
   "id": "678350ac-2ff0-4136-bbcd-75bf9ffaa119",
   "metadata": {},
   "outputs": [],
   "source": [
    "dfs = []\n",
    "for dataset in [ee, nn, en]:\n",
    "    dataset_corr = dataset[dataset['P-value-bh']<0.05]\n",
    "    dfs.append(dataset_corr.groupby(['query_gene', 'array_gene', 'genes']).min('P-value-corr'))"
   ]
  },
  {
   "cell_type": "code",
   "execution_count": 24,
   "id": "2f198605-649e-42a5-8b53-864711846580",
   "metadata": {},
   "outputs": [],
   "source": [
    "concat_df = pd.concat(dfs).reset_index()"
   ]
  },
  {
   "cell_type": "code",
   "execution_count": 25,
   "id": "6fb6d027-7f4c-4144-b8db-1b7b53004072",
   "metadata": {},
   "outputs": [
    {
     "data": {
      "text/html": [
       "<div>\n",
       "<style scoped>\n",
       "    .dataframe tbody tr th:only-of-type {\n",
       "        vertical-align: middle;\n",
       "    }\n",
       "\n",
       "    .dataframe tbody tr th {\n",
       "        vertical-align: top;\n",
       "    }\n",
       "\n",
       "    .dataframe thead th {\n",
       "        text-align: right;\n",
       "    }\n",
       "</style>\n",
       "<table border=\"1\" class=\"dataframe\">\n",
       "  <thead>\n",
       "    <tr style=\"text-align: right;\">\n",
       "      <th></th>\n",
       "      <th>query_gene</th>\n",
       "      <th>array_gene</th>\n",
       "      <th>genes</th>\n",
       "      <th>dmf</th>\n",
       "      <th>gi_score</th>\n",
       "      <th>P-value</th>\n",
       "      <th>smf_q</th>\n",
       "      <th>smf_a</th>\n",
       "      <th>smf_qxa</th>\n",
       "      <th>P-value-bonferroni</th>\n",
       "      <th>P-value-bh</th>\n",
       "    </tr>\n",
       "  </thead>\n",
       "  <tbody>\n",
       "    <tr>\n",
       "      <th>0</th>\n",
       "      <td>YAL001C</td>\n",
       "      <td>YBL023C</td>\n",
       "      <td>ExE</td>\n",
       "      <td>0.7319</td>\n",
       "      <td>-0.0348</td>\n",
       "      <td>5.042000e-03</td>\n",
       "      <td>0.8285</td>\n",
       "      <td>0.9254</td>\n",
       "      <td>0.766694</td>\n",
       "      <td>1.000000e+00</td>\n",
       "      <td>3.258794e-02</td>\n",
       "    </tr>\n",
       "    <tr>\n",
       "      <th>1</th>\n",
       "      <td>YAL001C</td>\n",
       "      <td>YBL026W</td>\n",
       "      <td>ExE</td>\n",
       "      <td>0.4266</td>\n",
       "      <td>-0.3529</td>\n",
       "      <td>3.591000e-06</td>\n",
       "      <td>0.8285</td>\n",
       "      <td>0.9408</td>\n",
       "      <td>0.779453</td>\n",
       "      <td>1.000000e+00</td>\n",
       "      <td>5.324479e-05</td>\n",
       "    </tr>\n",
       "    <tr>\n",
       "      <th>2</th>\n",
       "      <td>YAL001C</td>\n",
       "      <td>YBL076C</td>\n",
       "      <td>ExE</td>\n",
       "      <td>0.6458</td>\n",
       "      <td>-0.0250</td>\n",
       "      <td>1.301000e-04</td>\n",
       "      <td>0.8285</td>\n",
       "      <td>0.8097</td>\n",
       "      <td>0.670836</td>\n",
       "      <td>1.000000e+00</td>\n",
       "      <td>1.398227e-03</td>\n",
       "    </tr>\n",
       "    <tr>\n",
       "      <th>3</th>\n",
       "      <td>YAL001C</td>\n",
       "      <td>YBL097W</td>\n",
       "      <td>ExE</td>\n",
       "      <td>0.3719</td>\n",
       "      <td>-0.0808</td>\n",
       "      <td>5.582000e-15</td>\n",
       "      <td>0.8285</td>\n",
       "      <td>0.5464</td>\n",
       "      <td>0.452692</td>\n",
       "      <td>4.569258e-09</td>\n",
       "      <td>2.041853e-13</td>\n",
       "    </tr>\n",
       "    <tr>\n",
       "      <th>4</th>\n",
       "      <td>YAL001C</td>\n",
       "      <td>YBR029C</td>\n",
       "      <td>ExE</td>\n",
       "      <td>0.6289</td>\n",
       "      <td>-0.1173</td>\n",
       "      <td>8.243000e-05</td>\n",
       "      <td>0.8285</td>\n",
       "      <td>0.9007</td>\n",
       "      <td>0.746230</td>\n",
       "      <td>1.000000e+00</td>\n",
       "      <td>9.297881e-04</td>\n",
       "    </tr>\n",
       "    <tr>\n",
       "      <th>...</th>\n",
       "      <td>...</td>\n",
       "      <td>...</td>\n",
       "      <td>...</td>\n",
       "      <td>...</td>\n",
       "      <td>...</td>\n",
       "      <td>...</td>\n",
       "      <td>...</td>\n",
       "      <td>...</td>\n",
       "      <td>...</td>\n",
       "      <td>...</td>\n",
       "      <td>...</td>\n",
       "    </tr>\n",
       "    <tr>\n",
       "      <th>1122249</th>\n",
       "      <td>YPR202W</td>\n",
       "      <td>YOR262W</td>\n",
       "      <td>ExN_NxE</td>\n",
       "      <td>0.6732</td>\n",
       "      <td>-0.1490</td>\n",
       "      <td>3.462000e-06</td>\n",
       "      <td>1.0095</td>\n",
       "      <td>0.8145</td>\n",
       "      <td>0.822238</td>\n",
       "      <td>1.000000e+00</td>\n",
       "      <td>1.135933e-04</td>\n",
       "    </tr>\n",
       "    <tr>\n",
       "      <th>1122250</th>\n",
       "      <td>YPR202W</td>\n",
       "      <td>YPL007C</td>\n",
       "      <td>ExN_NxE</td>\n",
       "      <td>0.8877</td>\n",
       "      <td>-0.0572</td>\n",
       "      <td>4.619000e-04</td>\n",
       "      <td>1.0095</td>\n",
       "      <td>0.9360</td>\n",
       "      <td>0.944892</td>\n",
       "      <td>1.000000e+00</td>\n",
       "      <td>8.908808e-03</td>\n",
       "    </tr>\n",
       "    <tr>\n",
       "      <th>1122251</th>\n",
       "      <td>YPR202W</td>\n",
       "      <td>YPL076W</td>\n",
       "      <td>ExN_NxE</td>\n",
       "      <td>0.8590</td>\n",
       "      <td>0.0695</td>\n",
       "      <td>1.863000e-03</td>\n",
       "      <td>1.0095</td>\n",
       "      <td>0.7821</td>\n",
       "      <td>0.789530</td>\n",
       "      <td>1.000000e+00</td>\n",
       "      <td>2.873609e-02</td>\n",
       "    </tr>\n",
       "    <tr>\n",
       "      <th>1122252</th>\n",
       "      <td>YPR202W</td>\n",
       "      <td>YPL169C</td>\n",
       "      <td>ExN_NxE</td>\n",
       "      <td>0.8677</td>\n",
       "      <td>0.0567</td>\n",
       "      <td>2.518000e-03</td>\n",
       "      <td>1.0095</td>\n",
       "      <td>0.8034</td>\n",
       "      <td>0.811032</td>\n",
       "      <td>1.000000e+00</td>\n",
       "      <td>3.674431e-02</td>\n",
       "    </tr>\n",
       "    <tr>\n",
       "      <th>1122253</th>\n",
       "      <td>YPR202W</td>\n",
       "      <td>YPR055W</td>\n",
       "      <td>ExN_NxE</td>\n",
       "      <td>0.9935</td>\n",
       "      <td>0.0437</td>\n",
       "      <td>5.593000e-05</td>\n",
       "      <td>1.0095</td>\n",
       "      <td>0.9409</td>\n",
       "      <td>0.949839</td>\n",
       "      <td>1.000000e+00</td>\n",
       "      <td>1.406341e-03</td>\n",
       "    </tr>\n",
       "  </tbody>\n",
       "</table>\n",
       "<p>1122254 rows × 11 columns</p>\n",
       "</div>"
      ],
      "text/plain": [
       "        query_gene array_gene    genes     dmf  gi_score       P-value  \\\n",
       "0          YAL001C    YBL023C      ExE  0.7319   -0.0348  5.042000e-03   \n",
       "1          YAL001C    YBL026W      ExE  0.4266   -0.3529  3.591000e-06   \n",
       "2          YAL001C    YBL076C      ExE  0.6458   -0.0250  1.301000e-04   \n",
       "3          YAL001C    YBL097W      ExE  0.3719   -0.0808  5.582000e-15   \n",
       "4          YAL001C    YBR029C      ExE  0.6289   -0.1173  8.243000e-05   \n",
       "...            ...        ...      ...     ...       ...           ...   \n",
       "1122249    YPR202W    YOR262W  ExN_NxE  0.6732   -0.1490  3.462000e-06   \n",
       "1122250    YPR202W    YPL007C  ExN_NxE  0.8877   -0.0572  4.619000e-04   \n",
       "1122251    YPR202W    YPL076W  ExN_NxE  0.8590    0.0695  1.863000e-03   \n",
       "1122252    YPR202W    YPL169C  ExN_NxE  0.8677    0.0567  2.518000e-03   \n",
       "1122253    YPR202W    YPR055W  ExN_NxE  0.9935    0.0437  5.593000e-05   \n",
       "\n",
       "          smf_q   smf_a   smf_qxa  P-value-bonferroni    P-value-bh  \n",
       "0        0.8285  0.9254  0.766694        1.000000e+00  3.258794e-02  \n",
       "1        0.8285  0.9408  0.779453        1.000000e+00  5.324479e-05  \n",
       "2        0.8285  0.8097  0.670836        1.000000e+00  1.398227e-03  \n",
       "3        0.8285  0.5464  0.452692        4.569258e-09  2.041853e-13  \n",
       "4        0.8285  0.9007  0.746230        1.000000e+00  9.297881e-04  \n",
       "...         ...     ...       ...                 ...           ...  \n",
       "1122249  1.0095  0.8145  0.822238        1.000000e+00  1.135933e-04  \n",
       "1122250  1.0095  0.9360  0.944892        1.000000e+00  8.908808e-03  \n",
       "1122251  1.0095  0.7821  0.789530        1.000000e+00  2.873609e-02  \n",
       "1122252  1.0095  0.8034  0.811032        1.000000e+00  3.674431e-02  \n",
       "1122253  1.0095  0.9409  0.949839        1.000000e+00  1.406341e-03  \n",
       "\n",
       "[1122254 rows x 11 columns]"
      ]
     },
     "execution_count": 25,
     "metadata": {},
     "output_type": "execute_result"
    }
   ],
   "source": [
    "concat_df"
   ]
  },
  {
   "cell_type": "code",
   "execution_count": 26,
   "id": "b65b68c7-870e-4180-aae5-578578790cd0",
   "metadata": {},
   "outputs": [
    {
     "data": {
      "image/png": "[encoded data removed]"
     },
     "metadata": {
      "image/png": {
       "height": 600,
       "width": 1200
      }
     },
     "output_type": "display_data"
    }
   ],
   "source": [
    "(\n",
    "    p9.ggplot(concat_df, p9.aes(x=\"gi_score\"))\n",
    "    + p9.geom_histogram(bins = 100)\n",
    "    + p9.facet_wrap(\"genes\", scales='free')\n",
    "    +p9.labs(\n",
    "        x=\"Double Mutant Fitness\",\n",
    "        y=\"Counts\",\n",
    "        title=\"The distribution of significant dmf's\"\n",
    "    )\n",
    "    +p9.theme_light()\n",
    "    +p9.theme(figure_size=(12, 6))  \n",
    ")\n",
    "\n"
   ]
  },
  {
   "cell_type": "code",
   "execution_count": 27,
   "id": "4e3c183c",
   "metadata": {},
   "outputs": [],
   "source": [
    "concat_df[[\"query_gene\", \"array_gene\", \"gi_score\", \"dmf\"]].to_csv(\"../extracted_data/interaction_table_all.csv\")\n",
    "ee[[\"query_gene\", \"array_gene\", \"gi_score\", \"dmf\"]].to_csv(\"../extracted_data/interaction_table_ee.csv\")\n",
    "nn[[\"query_gene\", \"array_gene\", \"gi_score\", \"dmf\"]].to_csv(\"../extracted_data/interaction_table_nn.csv\")\n",
    "en[[\"query_gene\", \"array_gene\", \"gi_score\", \"dmf\"]].to_csv(\"../extracted_data/interaction_table_en.csv\")"
   ]
  }
 ],
 "metadata": {
  "kernelspec": {
   "display_name": "Python (myenv)",
   "language": "python",
   "name": "myenv"
  },
  "language_info": {
   "codemirror_mode": {
    "name": "ipython",
    "version": 3
   },
   "file_extension": ".py",
   "mimetype": "text/x-python",
   "name": "python",
   "nbconvert_exporter": "python",
   "pygments_lexer": "ipython3",
   "version": "3.13.2"
  }
 },
 "nbformat": 4,
 "nbformat_minor": 5
}
