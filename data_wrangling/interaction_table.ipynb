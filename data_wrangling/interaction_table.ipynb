{
 "cells": [
  {
   "cell_type": "code",
   "execution_count": 77,
   "id": "ed7c4930-c14f-4e2f-bd75-c34540fe4ceb",
   "metadata": {},
   "outputs": [],
   "source": [
    "import numpy as np\n",
    "import pandas as pd\n",
    "import plotnine as p9\n",
    "\n",
    "from statsmodels.stats.multitest import multipletests"
   ]
  },
  {
   "cell_type": "markdown",
   "id": "00ad7732-1313-4ea9-8573-13ed05866331",
   "metadata": {},
   "source": [
    "# Load and aggregate all three tables (ExE, NxN, NxE)"
   ]
  },
  {
   "cell_type": "code",
   "execution_count": 78,
   "id": "31e58782-4921-4533-a549-0c00f416b7fb",
   "metadata": {},
   "outputs": [],
   "source": [
    "def preprocess_data(path):\n",
    "    ee = pd.read_csv('../data/'+path, sep='\\t')\n",
    "    ee.columns = ee.columns.str.replace(' ', '_')\n",
    "    \n",
    "    ee['query_gene'] = ee.Query_Strain_ID.str.split('_',expand=True)[0]\n",
    "    ee['array_gene'] = ee.Array_Strain_ID.str.split('_',expand=True)[0]\n",
    "    ee['temp'] = ee['Arraytype/Temp'].str[-2:]\n",
    "    \n",
    "    ee['dmf'] = ee['Double_mutant_fitness']\n",
    "    ee['gi_score'] = ee['Genetic_interaction_score_(ε)']\n",
    "    \n",
    "    ee['smf_q'] = ee['Query_single_mutant_fitness_(SMF)']\n",
    "    ee['smf_a'] = ee['Array_SMF']\n",
    "    ee['smf_qxa'] = ee['smf_q'] * ee['smf_a']\n",
    "    ee = ee[['query_gene', 'array_gene', 'dmf', 'gi_score', 'P-value', 'temp', 'smf_q', 'smf_a', 'smf_qxa']]\n",
    "    \n",
    "    return ee"
   ]
  },
  {
   "cell_type": "code",
   "execution_count": 79,
   "id": "89c3e9e0-a4e7-4de3-845a-1aa1dc4a5c88",
   "metadata": {},
   "outputs": [],
   "source": [
    "pathes_constanzo = ['SGA_ExE.txt', 'SGA_NxN.txt', 'SGA_ExN_NxE.txt']\n",
    "ee = preprocess_data(pathes_constanzo[0])\n",
    "nn = preprocess_data(pathes_constanzo[1])\n",
    "en_ne = preprocess_data(pathes_constanzo[2])"
   ]
  },
  {
   "cell_type": "code",
   "execution_count": 80,
   "id": "3ab668da",
   "metadata": {},
   "outputs": [],
   "source": [
    "essential_genes = list(set(ee.query_gene.unique()) | set(ee.array_gene.unique()))\n",
    "#nonessential_genes = list(set(nn.query_gene.unique()) | set(nn.array_gene.unique()))"
   ]
  },
  {
   "cell_type": "code",
   "execution_count": 81,
   "id": "6ae3976b-1a78-4d36-805a-e1c8c28447d2",
   "metadata": {},
   "outputs": [
    {
     "data": {
      "text/html": [
       "<div>\n",
       "<style scoped>\n",
       "    .dataframe tbody tr th:only-of-type {\n",
       "        vertical-align: middle;\n",
       "    }\n",
       "\n",
       "    .dataframe tbody tr th {\n",
       "        vertical-align: top;\n",
       "    }\n",
       "\n",
       "    .dataframe thead th {\n",
       "        text-align: right;\n",
       "    }\n",
       "</style>\n",
       "<table border=\"1\" class=\"dataframe\">\n",
       "  <thead>\n",
       "    <tr style=\"text-align: right;\">\n",
       "      <th></th>\n",
       "      <th>query_gene</th>\n",
       "      <th>array_gene</th>\n",
       "      <th>dmf</th>\n",
       "      <th>gi_score</th>\n",
       "      <th>P-value</th>\n",
       "      <th>temp</th>\n",
       "      <th>smf_q</th>\n",
       "      <th>smf_a</th>\n",
       "      <th>smf_qxa</th>\n",
       "    </tr>\n",
       "  </thead>\n",
       "  <tbody>\n",
       "    <tr>\n",
       "      <th>0</th>\n",
       "      <td>YAL001C</td>\n",
       "      <td>YBL023C</td>\n",
       "      <td>0.6959</td>\n",
       "      <td>-0.0374</td>\n",
       "      <td>1.667000e-02</td>\n",
       "      <td>30</td>\n",
       "      <td>0.8101</td>\n",
       "      <td>0.9052</td>\n",
       "      <td>0.733303</td>\n",
       "    </tr>\n",
       "    <tr>\n",
       "      <th>1</th>\n",
       "      <td>YAL001C</td>\n",
       "      <td>YBL026W</td>\n",
       "      <td>0.4420</td>\n",
       "      <td>-0.3045</td>\n",
       "      <td>2.339000e-66</td>\n",
       "      <td>30</td>\n",
       "      <td>0.8101</td>\n",
       "      <td>0.9216</td>\n",
       "      <td>0.746588</td>\n",
       "    </tr>\n",
       "    <tr>\n",
       "      <th>2</th>\n",
       "      <td>YAL001C</td>\n",
       "      <td>YBL034C</td>\n",
       "      <td>0.7261</td>\n",
       "      <td>0.0190</td>\n",
       "      <td>4.290000e-01</td>\n",
       "      <td>30</td>\n",
       "      <td>0.8101</td>\n",
       "      <td>0.8729</td>\n",
       "      <td>0.707136</td>\n",
       "    </tr>\n",
       "    <tr>\n",
       "      <th>3</th>\n",
       "      <td>YAL001C</td>\n",
       "      <td>YBL034C</td>\n",
       "      <td>0.6482</td>\n",
       "      <td>0.0141</td>\n",
       "      <td>4.344000e-01</td>\n",
       "      <td>30</td>\n",
       "      <td>0.8101</td>\n",
       "      <td>0.7827</td>\n",
       "      <td>0.634065</td>\n",
       "    </tr>\n",
       "    <tr>\n",
       "      <th>4</th>\n",
       "      <td>YAL001C</td>\n",
       "      <td>YBL034C</td>\n",
       "      <td>0.4522</td>\n",
       "      <td>-0.1574</td>\n",
       "      <td>6.794000e-03</td>\n",
       "      <td>30</td>\n",
       "      <td>0.8101</td>\n",
       "      <td>0.7525</td>\n",
       "      <td>0.609600</td>\n",
       "    </tr>\n",
       "  </tbody>\n",
       "</table>\n",
       "</div>"
      ],
      "text/plain": [
       "  query_gene array_gene     dmf  gi_score       P-value temp   smf_q   smf_a  \\\n",
       "0    YAL001C    YBL023C  0.6959   -0.0374  1.667000e-02   30  0.8101  0.9052   \n",
       "1    YAL001C    YBL026W  0.4420   -0.3045  2.339000e-66   30  0.8101  0.9216   \n",
       "2    YAL001C    YBL034C  0.7261    0.0190  4.290000e-01   30  0.8101  0.8729   \n",
       "3    YAL001C    YBL034C  0.6482    0.0141  4.344000e-01   30  0.8101  0.7827   \n",
       "4    YAL001C    YBL034C  0.4522   -0.1574  6.794000e-03   30  0.8101  0.7525   \n",
       "\n",
       "    smf_qxa  \n",
       "0  0.733303  \n",
       "1  0.746588  \n",
       "2  0.707136  \n",
       "3  0.634065  \n",
       "4  0.609600  "
      ]
     },
     "execution_count": 81,
     "metadata": {},
     "output_type": "execute_result"
    }
   ],
   "source": [
    "ee.head()"
   ]
  },
  {
   "cell_type": "markdown",
   "id": "90255a4c-3c42-49dd-96b1-c59a5d6b11b7",
   "metadata": {},
   "source": [
    "Let's now not care about temperature and just select the measurement with the lowest p-value?"
   ]
  },
  {
   "cell_type": "code",
   "execution_count": 82,
   "id": "855a439a-b370-45aa-bc8e-5a1ffb11d5c6",
   "metadata": {},
   "outputs": [
    {
     "data": {
      "text/plain": [
       "temp\n",
       "26    600201\n",
       "30      1489\n",
       "Name: count, dtype: int64"
      ]
     },
     "execution_count": 82,
     "metadata": {},
     "output_type": "execute_result"
    }
   ],
   "source": [
    "ee.temp.value_counts()"
   ]
  },
  {
   "cell_type": "code",
   "execution_count": 83,
   "id": "7e0b707a-3ed7-44f1-8ce3-4ef0261f72db",
   "metadata": {},
   "outputs": [
    {
     "data": {
      "text/plain": [
       "temp\n",
       "30    11295484\n",
       "Name: count, dtype: int64"
      ]
     },
     "execution_count": 83,
     "metadata": {},
     "output_type": "execute_result"
    }
   ],
   "source": [
    "nn.temp.value_counts()"
   ]
  },
  {
   "cell_type": "code",
   "execution_count": 84,
   "id": "0859b427-a7d8-4465-83aa-c39cf18b9ebc",
   "metadata": {},
   "outputs": [
    {
     "data": {
      "text/plain": [
       "temp\n",
       "26    2479638\n",
       "30    1401818\n",
       "Name: count, dtype: int64"
      ]
     },
     "execution_count": 84,
     "metadata": {},
     "output_type": "execute_result"
    }
   ],
   "source": [
    "en_ne.temp.value_counts()"
   ]
  },
  {
   "cell_type": "code",
   "execution_count": 85,
   "id": "15e604cb-9eb8-43e8-a602-9d74e492acec",
   "metadata": {},
   "outputs": [],
   "source": [
    "def correction(ee):\n",
    "    reject, pvals_corrected, _, _ = multipletests(ee['P-value'], method = 'bonferroni')\n",
    "    ee['P-value-bonferroni'] = pvals_corrected\n",
    "    reject, pvals_corrected, _, _ = multipletests(ee['P-value'], method = 'fdr_bh')\n",
    "    ee['P-value-bh'] = pvals_corrected\n",
    "    return ee"
   ]
  },
  {
   "cell_type": "code",
   "execution_count": 86,
   "id": "7dca7456-8696-4ccd-8e74-b57010cf6a69",
   "metadata": {},
   "outputs": [],
   "source": [
    "ee = correction(ee)"
   ]
  },
  {
   "cell_type": "code",
   "execution_count": 87,
   "id": "7678b6f6-7ee3-44c5-8d03-0f151dc9738f",
   "metadata": {},
   "outputs": [
    {
     "data": {
      "text/html": [
       "<div>\n",
       "<style scoped>\n",
       "    .dataframe tbody tr th:only-of-type {\n",
       "        vertical-align: middle;\n",
       "    }\n",
       "\n",
       "    .dataframe tbody tr th {\n",
       "        vertical-align: top;\n",
       "    }\n",
       "\n",
       "    .dataframe thead th {\n",
       "        text-align: right;\n",
       "    }\n",
       "</style>\n",
       "<table border=\"1\" class=\"dataframe\">\n",
       "  <thead>\n",
       "    <tr style=\"text-align: right;\">\n",
       "      <th></th>\n",
       "      <th>query_gene</th>\n",
       "      <th>array_gene</th>\n",
       "      <th>dmf</th>\n",
       "      <th>gi_score</th>\n",
       "      <th>P-value</th>\n",
       "      <th>temp</th>\n",
       "      <th>smf_q</th>\n",
       "      <th>smf_a</th>\n",
       "      <th>smf_qxa</th>\n",
       "      <th>P-value-bonferroni</th>\n",
       "      <th>P-value-bh</th>\n",
       "    </tr>\n",
       "  </thead>\n",
       "  <tbody>\n",
       "    <tr>\n",
       "      <th>0</th>\n",
       "      <td>YAL001C</td>\n",
       "      <td>YBL023C</td>\n",
       "      <td>0.6959</td>\n",
       "      <td>-0.0374</td>\n",
       "      <td>1.667000e-02</td>\n",
       "      <td>30</td>\n",
       "      <td>0.8101</td>\n",
       "      <td>0.9052</td>\n",
       "      <td>0.733303</td>\n",
       "      <td>1.000000e+00</td>\n",
       "      <td>7.971779e-02</td>\n",
       "    </tr>\n",
       "    <tr>\n",
       "      <th>1</th>\n",
       "      <td>YAL001C</td>\n",
       "      <td>YBL026W</td>\n",
       "      <td>0.4420</td>\n",
       "      <td>-0.3045</td>\n",
       "      <td>2.339000e-66</td>\n",
       "      <td>30</td>\n",
       "      <td>0.8101</td>\n",
       "      <td>0.9216</td>\n",
       "      <td>0.746588</td>\n",
       "      <td>1.407353e-60</td>\n",
       "      <td>3.349245e-64</td>\n",
       "    </tr>\n",
       "    <tr>\n",
       "      <th>2</th>\n",
       "      <td>YAL001C</td>\n",
       "      <td>YBL034C</td>\n",
       "      <td>0.7261</td>\n",
       "      <td>0.0190</td>\n",
       "      <td>4.290000e-01</td>\n",
       "      <td>30</td>\n",
       "      <td>0.8101</td>\n",
       "      <td>0.8729</td>\n",
       "      <td>0.707136</td>\n",
       "      <td>1.000000e+00</td>\n",
       "      <td>4.899384e-01</td>\n",
       "    </tr>\n",
       "    <tr>\n",
       "      <th>3</th>\n",
       "      <td>YAL001C</td>\n",
       "      <td>YBL034C</td>\n",
       "      <td>0.6482</td>\n",
       "      <td>0.0141</td>\n",
       "      <td>4.344000e-01</td>\n",
       "      <td>30</td>\n",
       "      <td>0.8101</td>\n",
       "      <td>0.7827</td>\n",
       "      <td>0.634065</td>\n",
       "      <td>1.000000e+00</td>\n",
       "      <td>4.910897e-01</td>\n",
       "    </tr>\n",
       "    <tr>\n",
       "      <th>4</th>\n",
       "      <td>YAL001C</td>\n",
       "      <td>YBL034C</td>\n",
       "      <td>0.4522</td>\n",
       "      <td>-0.1574</td>\n",
       "      <td>6.794000e-03</td>\n",
       "      <td>30</td>\n",
       "      <td>0.8101</td>\n",
       "      <td>0.7525</td>\n",
       "      <td>0.609600</td>\n",
       "      <td>1.000000e+00</td>\n",
       "      <td>3.937698e-02</td>\n",
       "    </tr>\n",
       "  </tbody>\n",
       "</table>\n",
       "</div>"
      ],
      "text/plain": [
       "  query_gene array_gene     dmf  gi_score       P-value temp   smf_q   smf_a  \\\n",
       "0    YAL001C    YBL023C  0.6959   -0.0374  1.667000e-02   30  0.8101  0.9052   \n",
       "1    YAL001C    YBL026W  0.4420   -0.3045  2.339000e-66   30  0.8101  0.9216   \n",
       "2    YAL001C    YBL034C  0.7261    0.0190  4.290000e-01   30  0.8101  0.8729   \n",
       "3    YAL001C    YBL034C  0.6482    0.0141  4.344000e-01   30  0.8101  0.7827   \n",
       "4    YAL001C    YBL034C  0.4522   -0.1574  6.794000e-03   30  0.8101  0.7525   \n",
       "\n",
       "    smf_qxa  P-value-bonferroni    P-value-bh  \n",
       "0  0.733303        1.000000e+00  7.971779e-02  \n",
       "1  0.746588        1.407353e-60  3.349245e-64  \n",
       "2  0.707136        1.000000e+00  4.899384e-01  \n",
       "3  0.634065        1.000000e+00  4.910897e-01  \n",
       "4  0.609600        1.000000e+00  3.937698e-02  "
      ]
     },
     "execution_count": 87,
     "metadata": {},
     "output_type": "execute_result"
    }
   ],
   "source": [
    "ee.head()"
   ]
  },
  {
   "cell_type": "code",
   "execution_count": 88,
   "id": "af1707e9-3f2c-4d03-ad3e-046d109b2ebd",
   "metadata": {},
   "outputs": [
    {
     "data": {
      "text/plain": [
       "(34139, 11)"
      ]
     },
     "execution_count": 88,
     "metadata": {},
     "output_type": "execute_result"
    }
   ],
   "source": [
    "ee[ee['P-value-bonferroni']<0.05].shape"
   ]
  },
  {
   "cell_type": "code",
   "execution_count": 89,
   "id": "22be5752-b05b-496c-bd55-12d0a2954665",
   "metadata": {},
   "outputs": [],
   "source": [
    "df = []\n",
    "for dataset in [ee, nn, en_ne]:\n",
    "    dataset = correction(dataset)\n",
    "    df.append([dataset.shape[0],dataset[dataset['P-value']<0.05].shape[0],dataset[dataset['P-value-bh']<0.05].shape[0], dataset[dataset['P-value-bonferroni']<0.05].shape[0] ])"
   ]
  },
  {
   "cell_type": "code",
   "execution_count": 90,
   "id": "216e5a32-6657-4efb-bab7-04f613f6d649",
   "metadata": {},
   "outputs": [
    {
     "data": {
      "text/html": [
       "<div>\n",
       "<style scoped>\n",
       "    .dataframe tbody tr th:only-of-type {\n",
       "        vertical-align: middle;\n",
       "    }\n",
       "\n",
       "    .dataframe tbody tr th {\n",
       "        vertical-align: top;\n",
       "    }\n",
       "\n",
       "    .dataframe thead th {\n",
       "        text-align: right;\n",
       "    }\n",
       "</style>\n",
       "<table border=\"1\" class=\"dataframe\">\n",
       "  <thead>\n",
       "    <tr style=\"text-align: right;\">\n",
       "      <th></th>\n",
       "      <th>Initial</th>\n",
       "      <th>p_val_0.05</th>\n",
       "      <th>bh</th>\n",
       "      <th>bonferroni</th>\n",
       "    </tr>\n",
       "  </thead>\n",
       "  <tbody>\n",
       "    <tr>\n",
       "      <th>ExE</th>\n",
       "      <td>601690</td>\n",
       "      <td>170490</td>\n",
       "      <td>110292</td>\n",
       "      <td>34139</td>\n",
       "    </tr>\n",
       "    <tr>\n",
       "      <th>NxN</th>\n",
       "      <td>11295484</td>\n",
       "      <td>1384117</td>\n",
       "      <td>562316</td>\n",
       "      <td>150731</td>\n",
       "    </tr>\n",
       "    <tr>\n",
       "      <th>ExN_NxE</th>\n",
       "      <td>3881456</td>\n",
       "      <td>659112</td>\n",
       "      <td>312382</td>\n",
       "      <td>85145</td>\n",
       "    </tr>\n",
       "  </tbody>\n",
       "</table>\n",
       "</div>"
      ],
      "text/plain": [
       "          Initial  p_val_0.05      bh  bonferroni\n",
       "ExE        601690      170490  110292       34139\n",
       "NxN      11295484     1384117  562316      150731\n",
       "ExN_NxE   3881456      659112  312382       85145"
      ]
     },
     "execution_count": 90,
     "metadata": {},
     "output_type": "execute_result"
    }
   ],
   "source": [
    "pd.DataFrame(df, columns = ['Initial', 'p_val_0.05','bh', 'bonferroni'], index = ['ExE', 'NxN', 'ExN_NxE'])"
   ]
  },
  {
   "cell_type": "code",
   "execution_count": 91,
   "id": "1ec3f80c-b1ac-445b-babf-3eaafc9d2771",
   "metadata": {},
   "outputs": [],
   "source": [
    "ee['genes'] = 'ExE'\n",
    "nn['genes'] = 'NxN'\n",
    "en_ne['genes'] = 'ExN_NxE'"
   ]
  },
  {
   "cell_type": "code",
   "execution_count": 92,
   "id": "678350ac-2ff0-4136-bbcd-75bf9ffaa119",
   "metadata": {},
   "outputs": [],
   "source": [
    "dfs = []\n",
    "for dataset in [ee, nn, en_ne]:\n",
    "    dataset_corr = dataset[dataset['P-value-bh']<0.05]\n",
    "    dfs.append(dataset_corr.groupby(['query_gene', 'array_gene', 'genes']).min('P-value-corr'))"
   ]
  },
  {
   "cell_type": "code",
   "execution_count": 93,
   "id": "2f198605-649e-42a5-8b53-864711846580",
   "metadata": {},
   "outputs": [],
   "source": [
    "concat_df = pd.concat(dfs).reset_index()"
   ]
  },
  {
   "cell_type": "code",
   "execution_count": 94,
   "id": "6fb6d027-7f4c-4144-b8db-1b7b53004072",
   "metadata": {},
   "outputs": [
    {
     "data": {
      "text/html": [
       "<div>\n",
       "<style scoped>\n",
       "    .dataframe tbody tr th:only-of-type {\n",
       "        vertical-align: middle;\n",
       "    }\n",
       "\n",
       "    .dataframe tbody tr th {\n",
       "        vertical-align: top;\n",
       "    }\n",
       "\n",
       "    .dataframe thead th {\n",
       "        text-align: right;\n",
       "    }\n",
       "</style>\n",
       "<table border=\"1\" class=\"dataframe\">\n",
       "  <thead>\n",
       "    <tr style=\"text-align: right;\">\n",
       "      <th></th>\n",
       "      <th>query_gene</th>\n",
       "      <th>array_gene</th>\n",
       "      <th>genes</th>\n",
       "      <th>dmf</th>\n",
       "      <th>gi_score</th>\n",
       "      <th>P-value</th>\n",
       "      <th>smf_q</th>\n",
       "      <th>smf_a</th>\n",
       "      <th>smf_qxa</th>\n",
       "      <th>P-value-bonferroni</th>\n",
       "      <th>P-value-bh</th>\n",
       "    </tr>\n",
       "  </thead>\n",
       "  <tbody>\n",
       "    <tr>\n",
       "      <th>0</th>\n",
       "      <td>YAL001C</td>\n",
       "      <td>YBL026W</td>\n",
       "      <td>ExE</td>\n",
       "      <td>0.4420</td>\n",
       "      <td>-0.3045</td>\n",
       "      <td>2.339000e-66</td>\n",
       "      <td>0.8101</td>\n",
       "      <td>0.9216</td>\n",
       "      <td>0.746588</td>\n",
       "      <td>1.407353e-60</td>\n",
       "      <td>3.349245e-64</td>\n",
       "    </tr>\n",
       "    <tr>\n",
       "      <th>1</th>\n",
       "      <td>YAL001C</td>\n",
       "      <td>YBL034C</td>\n",
       "      <td>ExE</td>\n",
       "      <td>0.4522</td>\n",
       "      <td>-0.1574</td>\n",
       "      <td>6.794000e-03</td>\n",
       "      <td>0.8101</td>\n",
       "      <td>0.7525</td>\n",
       "      <td>0.609600</td>\n",
       "      <td>1.000000e+00</td>\n",
       "      <td>3.937698e-02</td>\n",
       "    </tr>\n",
       "    <tr>\n",
       "      <th>2</th>\n",
       "      <td>YAL001C</td>\n",
       "      <td>YBL097W</td>\n",
       "      <td>ExE</td>\n",
       "      <td>0.3932</td>\n",
       "      <td>-0.0398</td>\n",
       "      <td>8.277000e-06</td>\n",
       "      <td>0.8101</td>\n",
       "      <td>0.5345</td>\n",
       "      <td>0.432998</td>\n",
       "      <td>1.000000e+00</td>\n",
       "      <td>1.078079e-04</td>\n",
       "    </tr>\n",
       "    <tr>\n",
       "      <th>3</th>\n",
       "      <td>YAL001C</td>\n",
       "      <td>YBR029C</td>\n",
       "      <td>ExE</td>\n",
       "      <td>0.6058</td>\n",
       "      <td>-0.1104</td>\n",
       "      <td>3.036000e-04</td>\n",
       "      <td>0.8101</td>\n",
       "      <td>0.8841</td>\n",
       "      <td>0.716209</td>\n",
       "      <td>1.000000e+00</td>\n",
       "      <td>2.793038e-03</td>\n",
       "    </tr>\n",
       "    <tr>\n",
       "      <th>4</th>\n",
       "      <td>YAL001C</td>\n",
       "      <td>YBR060C</td>\n",
       "      <td>ExE</td>\n",
       "      <td>0.8323</td>\n",
       "      <td>0.2459</td>\n",
       "      <td>1.471000e-25</td>\n",
       "      <td>0.8101</td>\n",
       "      <td>0.7238</td>\n",
       "      <td>0.586350</td>\n",
       "      <td>8.850860e-20</td>\n",
       "      <td>8.304429e-24</td>\n",
       "    </tr>\n",
       "    <tr>\n",
       "      <th>...</th>\n",
       "      <td>...</td>\n",
       "      <td>...</td>\n",
       "      <td>...</td>\n",
       "      <td>...</td>\n",
       "      <td>...</td>\n",
       "      <td>...</td>\n",
       "      <td>...</td>\n",
       "      <td>...</td>\n",
       "      <td>...</td>\n",
       "      <td>...</td>\n",
       "      <td>...</td>\n",
       "    </tr>\n",
       "    <tr>\n",
       "      <th>933143</th>\n",
       "      <td>YPR191W</td>\n",
       "      <td>YOR259C</td>\n",
       "      <td>ExN_NxE</td>\n",
       "      <td>0.4433</td>\n",
       "      <td>-0.2095</td>\n",
       "      <td>2.916000e-43</td>\n",
       "      <td>0.7428</td>\n",
       "      <td>0.7855</td>\n",
       "      <td>0.583469</td>\n",
       "      <td>1.131833e-36</td>\n",
       "      <td>7.222926e-41</td>\n",
       "    </tr>\n",
       "    <tr>\n",
       "      <th>933144</th>\n",
       "      <td>YPR191W</td>\n",
       "      <td>YOR262W</td>\n",
       "      <td>ExN_NxE</td>\n",
       "      <td>0.4252</td>\n",
       "      <td>-0.1685</td>\n",
       "      <td>1.825000e-04</td>\n",
       "      <td>0.7428</td>\n",
       "      <td>0.7994</td>\n",
       "      <td>0.593794</td>\n",
       "      <td>1.000000e+00</td>\n",
       "      <td>3.755378e-03</td>\n",
       "    </tr>\n",
       "    <tr>\n",
       "      <th>933145</th>\n",
       "      <td>YPR191W</td>\n",
       "      <td>YOR336W</td>\n",
       "      <td>ExN_NxE</td>\n",
       "      <td>0.6745</td>\n",
       "      <td>0.0566</td>\n",
       "      <td>4.177000e-10</td>\n",
       "      <td>0.7428</td>\n",
       "      <td>0.8318</td>\n",
       "      <td>0.617861</td>\n",
       "      <td>1.621284e-03</td>\n",
       "      <td>2.271279e-08</td>\n",
       "    </tr>\n",
       "    <tr>\n",
       "      <th>933146</th>\n",
       "      <td>YPR191W</td>\n",
       "      <td>YOR361C</td>\n",
       "      <td>ExN_NxE</td>\n",
       "      <td>0.5106</td>\n",
       "      <td>-0.0829</td>\n",
       "      <td>3.466000e-03</td>\n",
       "      <td>0.7428</td>\n",
       "      <td>0.7989</td>\n",
       "      <td>0.593423</td>\n",
       "      <td>1.000000e+00</td>\n",
       "      <td>4.443833e-02</td>\n",
       "    </tr>\n",
       "    <tr>\n",
       "      <th>933147</th>\n",
       "      <td>YPR191W</td>\n",
       "      <td>YPL028W</td>\n",
       "      <td>ExN_NxE</td>\n",
       "      <td>0.5133</td>\n",
       "      <td>-0.1806</td>\n",
       "      <td>3.207000e-03</td>\n",
       "      <td>0.7428</td>\n",
       "      <td>0.9342</td>\n",
       "      <td>0.693924</td>\n",
       "      <td>1.000000e+00</td>\n",
       "      <td>4.177545e-02</td>\n",
       "    </tr>\n",
       "  </tbody>\n",
       "</table>\n",
       "<p>933148 rows × 11 columns</p>\n",
       "</div>"
      ],
      "text/plain": [
       "       query_gene array_gene    genes     dmf  gi_score       P-value   smf_q  \\\n",
       "0         YAL001C    YBL026W      ExE  0.4420   -0.3045  2.339000e-66  0.8101   \n",
       "1         YAL001C    YBL034C      ExE  0.4522   -0.1574  6.794000e-03  0.8101   \n",
       "2         YAL001C    YBL097W      ExE  0.3932   -0.0398  8.277000e-06  0.8101   \n",
       "3         YAL001C    YBR029C      ExE  0.6058   -0.1104  3.036000e-04  0.8101   \n",
       "4         YAL001C    YBR060C      ExE  0.8323    0.2459  1.471000e-25  0.8101   \n",
       "...           ...        ...      ...     ...       ...           ...     ...   \n",
       "933143    YPR191W    YOR259C  ExN_NxE  0.4433   -0.2095  2.916000e-43  0.7428   \n",
       "933144    YPR191W    YOR262W  ExN_NxE  0.4252   -0.1685  1.825000e-04  0.7428   \n",
       "933145    YPR191W    YOR336W  ExN_NxE  0.6745    0.0566  4.177000e-10  0.7428   \n",
       "933146    YPR191W    YOR361C  ExN_NxE  0.5106   -0.0829  3.466000e-03  0.7428   \n",
       "933147    YPR191W    YPL028W  ExN_NxE  0.5133   -0.1806  3.207000e-03  0.7428   \n",
       "\n",
       "         smf_a   smf_qxa  P-value-bonferroni    P-value-bh  \n",
       "0       0.9216  0.746588        1.407353e-60  3.349245e-64  \n",
       "1       0.7525  0.609600        1.000000e+00  3.937698e-02  \n",
       "2       0.5345  0.432998        1.000000e+00  1.078079e-04  \n",
       "3       0.8841  0.716209        1.000000e+00  2.793038e-03  \n",
       "4       0.7238  0.586350        8.850860e-20  8.304429e-24  \n",
       "...        ...       ...                 ...           ...  \n",
       "933143  0.7855  0.583469        1.131833e-36  7.222926e-41  \n",
       "933144  0.7994  0.593794        1.000000e+00  3.755378e-03  \n",
       "933145  0.8318  0.617861        1.621284e-03  2.271279e-08  \n",
       "933146  0.7989  0.593423        1.000000e+00  4.443833e-02  \n",
       "933147  0.9342  0.693924        1.000000e+00  4.177545e-02  \n",
       "\n",
       "[933148 rows x 11 columns]"
      ]
     },
     "execution_count": 94,
     "metadata": {},
     "output_type": "execute_result"
    }
   ],
   "source": [
    "concat_df"
   ]
  },
  {
   "cell_type": "code",
   "execution_count": 95,
   "id": "b65b68c7-870e-4180-aae5-578578790cd0",
   "metadata": {},
   "outputs": [
    {
     "data": {
      "image/png": "[encoded data removed]"
     },
     "metadata": {
      "image/png": {
       "height": 600,
       "width": 1200
      }
     },
     "output_type": "display_data"
    }
   ],
   "source": [
    "(\n",
    "    p9.ggplot(concat_df, p9.aes(x=\"gi_score\"))\n",
    "    + p9.geom_histogram(bins = 100)\n",
    "    + p9.facet_wrap(\"genes\", scales='free')\n",
    "    +p9.labs(\n",
    "        x=\"Double Mutant Fitness\",\n",
    "        y=\"Counts\",\n",
    "        title=\"The distribution of significant dmf's\"\n",
    "    )\n",
    "    +p9.theme_light()\n",
    "    +p9.theme(figure_size=(12, 6))  \n",
    ")\n",
    "\n"
   ]
  },
  {
   "cell_type": "code",
   "execution_count": 96,
   "id": "8d57d2dd",
   "metadata": {},
   "outputs": [],
   "source": [
    "concat_df = concat_df[[\"query_gene\", \"array_gene\", \"dmf\"]]"
   ]
  },
  {
   "cell_type": "code",
   "execution_count": 97,
   "id": "4e3c183c",
   "metadata": {},
   "outputs": [],
   "source": [
    "concat_df.to_csv(\"../extracted_data/interaction_table.csv\")"
   ]
  }
 ],
 "metadata": {
  "kernelspec": {
   "display_name": "Python 3",
   "language": "python",
   "name": "python3"
  },
  "language_info": {
   "codemirror_mode": {
    "name": "ipython",
    "version": 3
   },
   "file_extension": ".py",
   "mimetype": "text/x-python",
   "name": "python",
   "nbconvert_exporter": "python",
   "pygments_lexer": "ipython3",
   "version": "3.12.3"
  }
 },
 "nbformat": 4,
 "nbformat_minor": 5
}
